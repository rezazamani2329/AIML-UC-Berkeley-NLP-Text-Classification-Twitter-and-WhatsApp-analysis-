{
 "cells": [
  {
   "cell_type": "markdown",
   "id": "e7bc9ab8-59ae-42cb-bdbd-167c9051986c",
   "metadata": {},
   "source": [
    "# NLP (Natural Language Processing)\n",
    "# Text Classifiction Problem. \n",
    "it has this following process: \n",
    "\n",
    "## 1- Tokenization:\n",
    "    1-1- tokenizing the stirng, \n",
    "    1-2- lower casing \n",
    "    3- removing stop words and punctuations \n",
    "## 2-Normalization \n",
    "    2-1- Stemming\n",
    "    2-2- Lemmatizing \n",
    "## 3- Creating Numerical data from text \n",
    "    3-1- Bag of Words \n",
    "    3-2- TFIDF \n",
    "## 4- Classify with \n",
    "    PolynomialNB,\n",
    "    Logistic regressio\n",
    "    Decision Tree\n",
    "    Support Vector Machine \n",
    "## 5- Evaluation \n",
    "## 6- Usign gridsearch to tune the hyperparamters \n",
    "## 7- Evaluation and Chosing the best model \n",
    "## 8- Feature selection and permutation \n",
    "## 9- Discusin and suggestions \n",
    "\n",
    "# In this project I analyze data of Twitter and WhatAPP. "
   ]
  },
  {
   "cell_type": "code",
   "execution_count": null,
   "id": "4098f495",
   "metadata": {},
   "outputs": [],
   "source": [
    "# Import libraries \n",
    "import numpy as np\n",
    "import matplotlib.pyplot as plt\n",
    "import pandas as pd\n",
    "from sklearn.metrics import ConfusionMatrixDisplay\n",
    "import pandas as pd\n",
    "from nltk.tokenize import TweetTokenizer\n",
    "from nltk.corpus import stopwords\n",
    "from nltk.stem import PorterStemmer\n",
    "from sklearn.naive_bayes import MultinomialNB\n",
    "from sklearn.linear_model import LogisticRegression\n",
    "from sklearn.svm import SVC\n",
    "from sklearn.inspection import permutation_importance\n",
    "from sklearn.tree import DecisionTreeClassifier\n",
    "\n",
    "from sklearn.model_selection import train_test_split\n",
    "from sklearn.feature_extraction.text import CountVectorizer, TfidfVectorizer\n",
    "from sklearn.linear_model import LogisticRegression\n",
    "from sklearn.tree import DecisionTreeClassifier\n",
    "from sklearn.naive_bayes import MultinomialNB\n",
    "from sklearn.pipeline import Pipeline\n",
    "from nltk import word_tokenize, sent_tokenize\n",
    "import nltk\n",
    "nltk.download('punkt')\n",
    "from sklearn.metrics import accuracy_score\n",
    "from sklearn.model_selection import GridSearchCV\n",
    "from nltk.stem import PorterStemmer, WordNetLemmatizer\n",
    "from nltk.corpus import stopwords\n",
    "from sklearn.inspection import permutation_importance\n",
    "from sklearn.base import TransformerMixin, BaseEstimator\n",
    "\n",
    "import time\n"
   ]
  },
  {
   "cell_type": "markdown",
   "id": "2e7ccba5",
   "metadata": {},
   "source": [
    "## <span style=\"color: red; \">  **Importing   NLTK and download the data**  </span>  "
   ]
  },
  {
   "cell_type": "code",
   "execution_count": null,
   "id": "3d5d5d2b",
   "metadata": {},
   "outputs": [],
   "source": [
    "import nltk\n",
    "nltk.download('twitter_samples')"
   ]
  },
  {
   "cell_type": "markdown",
   "id": "6234f6db",
   "metadata": {},
   "source": [
    "## <span style=\"color: red; \">  **Loading Twitter data**  </span>   "
   ]
  },
  {
   "cell_type": "code",
   "execution_count": null,
   "id": "32bde5fb",
   "metadata": {},
   "outputs": [],
   "source": [
    "from nltk.corpus import twitter_samples\n",
    "tweets_positive = twitter_samples.strings('positive_tweets.json')     #  5000 data \n",
    "tweets_negative  = twitter_samples.strings('negative_tweets.json')     #  5000 data \n",
    "tweets_all = tweets_positive + tweets_negative                             # 10000 data "
   ]
  },
  {
   "cell_type": "code",
   "execution_count": null,
   "id": "b7841a99",
   "metadata": {},
   "outputs": [],
   "source": [
    "labels_pos = np.ones ((len(tweets_positive),1), dtype=np.int8)  # positive labels (1)\n",
    "labels_neg = np.zeros((len(tweets_negative),1), dtype=np.int8)  # negative labels (0)\n",
    "labels_all = np.append(labels_pos,labels_neg)              # all labels"
   ]
  },
  {
   "cell_type": "code",
   "execution_count": null,
   "id": "c20f4431",
   "metadata": {},
   "outputs": [],
   "source": [
    "# creating dataframe\n",
    "pd.DataFrame(data={'tweet':tweets_all,'label':labels_all})"
   ]
  },
  {
   "cell_type": "markdown",
   "id": "b75428bd",
   "metadata": {},
   "source": [
    "## <span style=\"color: red; \">  **Data split into train and test**  </span>   "
   ]
  },
  {
   "cell_type": "code",
   "execution_count": 45,
   "id": "db661769",
   "metadata": {},
   "outputs": [
    {
     "data": {
      "text/plain": [
       "(7500, 2500, 7500, 2500)"
      ]
     },
     "execution_count": 45,
     "metadata": {},
     "output_type": "execute_result"
    }
   ],
   "source": [
    "\n",
    "X_train, X_test, y_train, y_test = train_test_split(tweets_all, labels_all,\n",
    "                                                    test_size=0.25, \n",
    "                                                    random_state=34)\n",
    "\n",
    "len(X_train), len(X_test), len(y_train), len(y_test)"
   ]
  },
  {
   "cell_type": "markdown",
   "id": "684682ce",
   "metadata": {},
   "source": [
    "## <span style=\"color: red; \">  **Preprocessing of data and Normalization**  </span>   "
   ]
  },
  {
   "cell_type": "markdown",
   "id": "891ee441",
   "metadata": {},
   "source": [
    "### <span style=\"color: red; \">  **Tokenize**  </span>   "
   ]
  },
  {
   "cell_type": "code",
   "execution_count": 46,
   "id": "ed147b24",
   "metadata": {},
   "outputs": [],
   "source": [
    "tokenizer = TweetTokenizer(preserve_case=False, strip_handles=True, reduce_len=True)\n",
    "X_train_tok = [tokenizer.tokenize(tweet) for tweet in X_train]"
   ]
  },
  {
   "cell_type": "code",
   "execution_count": 47,
   "id": "06042fcf",
   "metadata": {},
   "outputs": [
    {
     "data": {
      "text/plain": [
       "('Looking for fun? SNAPCHAT - luceleva21 #snapchat #kikgirl #porno #nudes #omegle #countrymusic #sexysasunday :( http://t.co/T8pqZuLaEx',\n",
       " ['looking',\n",
       "  'for',\n",
       "  'fun',\n",
       "  '?',\n",
       "  'snapchat',\n",
       "  '-',\n",
       "  'luceleva',\n",
       "  '21',\n",
       "  '#snapchat',\n",
       "  '#kikgirl',\n",
       "  '#porno',\n",
       "  '#nudes',\n",
       "  '#omegle',\n",
       "  '#countrymusic',\n",
       "  '#sexysasunday',\n",
       "  ':(',\n",
       "  'http://t.co/T8pqZuLaEx'])"
      ]
     },
     "execution_count": 47,
     "metadata": {},
     "output_type": "execute_result"
    }
   ],
   "source": [
    "n = 80\n",
    "X_train[n],X_train_tok[n]"
   ]
  },
  {
   "cell_type": "code",
   "execution_count": 48,
   "id": "f6aece7a",
   "metadata": {},
   "outputs": [
    {
     "data": {
      "text/plain": [
       "\"Omg happy late birthday @mariahjoyyy I'm so sorry I missed it :( love you though hope you had a lot of fun 😘🎉\""
      ]
     },
     "execution_count": 48,
     "metadata": {},
     "output_type": "execute_result"
    }
   ],
   "source": [
    "X_train[50]"
   ]
  },
  {
   "cell_type": "code",
   "execution_count": 49,
   "id": "a45d5bc8",
   "metadata": {},
   "outputs": [
    {
     "data": {
      "text/plain": [
       "['omg',\n",
       " 'happy',\n",
       " 'late',\n",
       " 'birthday',\n",
       " \"i'm\",\n",
       " 'so',\n",
       " 'sorry',\n",
       " 'i',\n",
       " 'missed',\n",
       " 'it',\n",
       " ':(',\n",
       " 'love',\n",
       " 'you',\n",
       " 'though',\n",
       " 'hope',\n",
       " 'you',\n",
       " 'had',\n",
       " 'a',\n",
       " 'lot',\n",
       " 'of',\n",
       " 'fun',\n",
       " '😘',\n",
       " '🎉']"
      ]
     },
     "execution_count": 49,
     "metadata": {},
     "output_type": "execute_result"
    }
   ],
   "source": [
    "X_train_tok[50]"
   ]
  },
  {
   "cell_type": "markdown",
   "id": "73b6c8a8",
   "metadata": {},
   "source": [
    "### <span style=\"color: red; \">  **Removing Stopwords**  </span>   "
   ]
  },
  {
   "cell_type": "code",
   "execution_count": 50,
   "id": "c94fc1a5",
   "metadata": {},
   "outputs": [],
   "source": [
    "swords = stopwords.words('english')\n",
    "X_train_tok_nostop = []\n",
    "for tweet in X_train_tok:\n",
    "    words = [word for word in tweet if word not in swords]\n",
    "    X_train_tok_nostop.append(words)"
   ]
  },
  {
   "cell_type": "code",
   "execution_count": 51,
   "id": "66c37f85",
   "metadata": {},
   "outputs": [
    {
     "data": {
      "text/plain": [
       "['miss', 'guppy', '.', ':-(']"
      ]
     },
     "execution_count": 51,
     "metadata": {},
     "output_type": "execute_result"
    }
   ],
   "source": [
    "X_train_tok_nostop[100]"
   ]
  },
  {
   "cell_type": "markdown",
   "id": "e924822a",
   "metadata": {},
   "source": [
    "### <span style=\"color: red; \">  **Stemming**  </span>   "
   ]
  },
  {
   "cell_type": "code",
   "execution_count": 52,
   "id": "235723e3",
   "metadata": {},
   "outputs": [],
   "source": [
    "stemmer = PorterStemmer()\n",
    "X_train_tok_nostop_stem = []\n",
    "for tweet in X_train_tok_nostop:\n",
    "    words = [stemmer.stem(word) for word in tweet]\n",
    "    X_train_tok_nostop_stem.append(words)"
   ]
  },
  {
   "cell_type": "code",
   "execution_count": 53,
   "id": "a5f4c580",
   "metadata": {},
   "outputs": [
    {
     "data": {
      "text/plain": [
       "['your', 'get', 'famou', ':(']"
      ]
     },
     "execution_count": 53,
     "metadata": {},
     "output_type": "execute_result"
    }
   ],
   "source": [
    "X_train_tok_nostop_stem[89]"
   ]
  },
  {
   "cell_type": "markdown",
   "id": "2d70a2d4",
   "metadata": {},
   "source": [
    "### <span style=\"color: red; \">  **Defining a function to apply all**  </span>   "
   ]
  },
  {
   "cell_type": "code",
   "execution_count": 54,
   "id": "9bd1c8de",
   "metadata": {},
   "outputs": [],
   "source": [
    "def preprocess_text(tweets):\n",
    "\n",
    "    tokenizer = TweetTokenizer(preserve_case=False, strip_handles=True, reduce_len=True)\n",
    "    stemmer = PorterStemmer()\n",
    "    swords = stopwords.words('english')\n",
    "\n",
    "    X = []\n",
    "    for tweet in tweets:\n",
    "        tokens = tokenizer.tokenize(tweet)\n",
    "        X.append([stemmer.stem(word) for word in tokens if word not in swords]) \n",
    "        \n",
    "    return X"
   ]
  },
  {
   "cell_type": "code",
   "execution_count": 55,
   "id": "a2b14c55",
   "metadata": {},
   "outputs": [],
   "source": [
    "X_train_pp = preprocess_text(X_train)"
   ]
  },
  {
   "cell_type": "markdown",
   "id": "7c80b1d7",
   "metadata": {},
   "source": [
    "### <span style=\"color: red; \">  **Word- Frequencies**  </span>   "
   ]
  },
  {
   "cell_type": "code",
   "execution_count": 56,
   "id": "97591003",
   "metadata": {},
   "outputs": [
    {
     "data": {
      "text/plain": [
       "10257"
      ]
     },
     "execution_count": 56,
     "metadata": {},
     "output_type": "execute_result"
    }
   ],
   "source": [
    "unique_words = set()\n",
    "for tweet in X_train_pp:\n",
    "    unique_words.update(tweet)\n",
    "len(unique_words)"
   ]
  },
  {
   "cell_type": "code",
   "execution_count": 57,
   "id": "fad52c9e",
   "metadata": {},
   "outputs": [
    {
     "name": "stdout",
     "output_type": "stream",
     "text": [
      "['enjoy' '!' 'sorri' 'hastili' 'type' 'messag' '!' ':)' 'surpris' 'visit']\n",
      "['download' '?' ':(' ':(' ':(' 'know' 'goe' ',' 'still' '...']\n"
     ]
    }
   ],
   "source": [
    "words_postive = []\n",
    "words_negative = []\n",
    "\n",
    "for tweet, label in zip(X_train_pp,y_train):\n",
    "    if label==0:\n",
    "        words_negative.extend(tweet)\n",
    "    else:\n",
    "        words_postive.extend(tweet)\n",
    "        \n",
    "unique_words = np.array(list(unique_words))\n",
    "words_postive = np.array(words_postive)\n",
    "words_negative = np.array(words_negative)\n",
    "\n",
    "print(words_postive[:10])\n",
    "print(words_negative[:10])"
   ]
  },
  {
   "cell_type": "code",
   "execution_count": 58,
   "id": "43508942",
   "metadata": {},
   "outputs": [
    {
     "data": {
      "text/plain": [
       "61538"
      ]
     },
     "execution_count": 58,
     "metadata": {},
     "output_type": "execute_result"
    }
   ],
   "source": [
    "len(words_postive) + len(words_negative)"
   ]
  },
  {
   "cell_type": "code",
   "execution_count": null,
   "id": "bb44edee",
   "metadata": {},
   "outputs": [],
   "source": []
  },
  {
   "cell_type": "code",
   "execution_count": 59,
   "id": "ff671176",
   "metadata": {},
   "outputs": [],
   "source": [
    "word_count = { w: [0,0] for w in unique_words }\n",
    "for word in words_postive:\n",
    "    word_count[word][1] += 1\n",
    "for word in words_negative:\n",
    "    word_count[word][0] += 1"
   ]
  },
  {
   "cell_type": "code",
   "execution_count": 60,
   "id": "28b684fb",
   "metadata": {},
   "outputs": [
    {
     "name": "stdout",
     "output_type": "stream",
     "text": [
      "['!' '.' '(' ':(']\n",
      "[',' '.' '!' ':)']\n"
     ]
    },
    {
     "data": {
      "text/plain": [
       "[3447, 1]"
      ]
     },
     "execution_count": 60,
     "metadata": {},
     "output_type": "execute_result"
    }
   ],
   "source": [
    "word_count_matrix = np.array([val for key,val in word_count.items()])\n",
    "\n",
    "ind_neg = np.argsort(word_count_matrix[:,0])\n",
    "ind_pos = np.argsort(word_count_matrix[:,1])\n",
    "\n",
    "print(unique_words[ind_neg[-4:]])\n",
    "print(unique_words[ind_pos[-4:]])\n",
    "\n",
    "word_count[':(']"
   ]
  },
  {
   "cell_type": "code",
   "execution_count": 61,
   "id": "59501355",
   "metadata": {},
   "outputs": [
    {
     "data": {
      "text/plain": [
       "[817, 990]"
      ]
     },
     "execution_count": 61,
     "metadata": {},
     "output_type": "execute_result"
    }
   ],
   "source": [
    "word_count['.']"
   ]
  },
  {
   "cell_type": "markdown",
   "id": "feaf28c4",
   "metadata": {},
   "source": [
    "# <span style=\"color: red; \">  **Ploting a sample of keys**  </span>  "
   ]
  },
  {
   "cell_type": "code",
   "execution_count": 62,
   "id": "4354f79e",
   "metadata": {},
   "outputs": [
    {
     "data": {
      "image/png": "[encoded data removed]",
      "text/plain": [
       "<Figure size 800x600 with 1 Axes>"
      ]
     },
     "metadata": {},
     "output_type": "display_data"
    }
   ],
   "source": [
    "keys = [':)', ':(', '❤', '😍', '😒', 'great','come','go', 'bad','bore','best','worst',]\\\n",
    "\n",
    "A = np.array([word_count[key] for key in keys])\n",
    "\n",
    "plt.figure(figsize=(8,6))\n",
    "plt.loglog(A[:,0],A[:,1],'.',markersize=0)  \n",
    "xlim = plt.xlim()\n",
    "ylim = plt.ylim()\n",
    "plt.loglog(xlim,ylim,'--')\n",
    "plt.xlim(xlim)\n",
    "plt.ylim(ylim)\n",
    "\n",
    "plt.xticks(fontsize=14)\n",
    "plt.yticks(fontsize=14)\n",
    "\n",
    "plt.ylabel(\"Count in positive tweets\", fontsize=18)\n",
    "plt.xlabel(\"Count in negative tweets\", fontsize=18)\n",
    "plt.title(\"Count positive and negative in Twitter sample\")\n",
    "\n",
    "for i in range(0, len(keys)):\n",
    "    plt.annotate(keys[i], A[i,:], fontsize=16)"
   ]
  },
  {
   "cell_type": "markdown",
   "id": "29656084",
   "metadata": {},
   "source": [
    "# \n",
    "# <span style=\"color: red; \">  **Normailzation with Full bag of words approach**  </span> "
   ]
  },
  {
   "cell_type": "code",
   "execution_count": 63,
   "id": "db73df87",
   "metadata": {},
   "outputs": [],
   "source": [
    "bow_matrix_train = np.zeros((len(X_train_pp),len(unique_words)))\n",
    "for i, tweet in enumerate(X_train_pp):\n",
    "    for word in tweet:\n",
    "        bow_matrix_train[i,unique_words==word] += 1"
   ]
  },
  {
   "cell_type": "code",
   "execution_count": 64,
   "id": "ddc592bc",
   "metadata": {},
   "outputs": [
    {
     "data": {
      "text/plain": [
       "0.0007429592798414091"
      ]
     },
     "execution_count": 64,
     "metadata": {},
     "output_type": "execute_result"
    }
   ],
   "source": [
    "np.sum(bow_matrix_train!=0)/np.prod(bow_matrix_train.shape)"
   ]
  },
  {
   "cell_type": "code",
   "execution_count": null,
   "id": "9e093fa1",
   "metadata": {},
   "outputs": [],
   "source": []
  },
  {
   "cell_type": "code",
   "execution_count": 65,
   "id": "f9299345",
   "metadata": {},
   "outputs": [
    {
     "data": {
      "text/html": [
       "<div>\n",
       "<style scoped>\n",
       "    .dataframe tbody tr th:only-of-type {\n",
       "        vertical-align: middle;\n",
       "    }\n",
       "\n",
       "    .dataframe tbody tr th {\n",
       "        vertical-align: top;\n",
       "    }\n",
       "\n",
       "    .dataframe thead th {\n",
       "        text-align: right;\n",
       "    }\n",
       "</style>\n",
       "<table border=\"1\" class=\"dataframe\">\n",
       "  <thead>\n",
       "    <tr style=\"text-align: right;\">\n",
       "      <th></th>\n",
       "      <th>http://t.co/mphby49eei</th>\n",
       "      <th>juan</th>\n",
       "      <th>lana</th>\n",
       "      <th>http://t.co/vqvmrn3br1</th>\n",
       "      <th>abp</th>\n",
       "      <th>megafauna</th>\n",
       "      <th>caramoan</th>\n",
       "      <th>cope</th>\n",
       "      <th>#hashtag</th>\n",
       "      <th>grandma</th>\n",
       "      <th>...</th>\n",
       "      <th>#frnd</th>\n",
       "      <th>steve</th>\n",
       "      <th>rehears</th>\n",
       "      <th>marino</th>\n",
       "      <th>everytim</th>\n",
       "      <th>silicon</th>\n",
       "      <th>esp</th>\n",
       "      <th>thrice</th>\n",
       "      <th>#familyhom</th>\n",
       "      <th>gelen</th>\n",
       "    </tr>\n",
       "  </thead>\n",
       "  <tbody>\n",
       "    <tr>\n",
       "      <th>0</th>\n",
       "      <td>0.0</td>\n",
       "      <td>0.0</td>\n",
       "      <td>0.0</td>\n",
       "      <td>0.0</td>\n",
       "      <td>0.0</td>\n",
       "      <td>0.0</td>\n",
       "      <td>0.0</td>\n",
       "      <td>0.0</td>\n",
       "      <td>0.0</td>\n",
       "      <td>0.0</td>\n",
       "      <td>...</td>\n",
       "      <td>0.0</td>\n",
       "      <td>0.0</td>\n",
       "      <td>0.0</td>\n",
       "      <td>0.0</td>\n",
       "      <td>0.0</td>\n",
       "      <td>0.0</td>\n",
       "      <td>0.0</td>\n",
       "      <td>0.0</td>\n",
       "      <td>0.0</td>\n",
       "      <td>0.0</td>\n",
       "    </tr>\n",
       "    <tr>\n",
       "      <th>1</th>\n",
       "      <td>0.0</td>\n",
       "      <td>0.0</td>\n",
       "      <td>0.0</td>\n",
       "      <td>0.0</td>\n",
       "      <td>0.0</td>\n",
       "      <td>0.0</td>\n",
       "      <td>0.0</td>\n",
       "      <td>0.0</td>\n",
       "      <td>0.0</td>\n",
       "      <td>0.0</td>\n",
       "      <td>...</td>\n",
       "      <td>0.0</td>\n",
       "      <td>0.0</td>\n",
       "      <td>0.0</td>\n",
       "      <td>0.0</td>\n",
       "      <td>0.0</td>\n",
       "      <td>0.0</td>\n",
       "      <td>0.0</td>\n",
       "      <td>0.0</td>\n",
       "      <td>0.0</td>\n",
       "      <td>0.0</td>\n",
       "    </tr>\n",
       "    <tr>\n",
       "      <th>2</th>\n",
       "      <td>0.0</td>\n",
       "      <td>0.0</td>\n",
       "      <td>0.0</td>\n",
       "      <td>0.0</td>\n",
       "      <td>0.0</td>\n",
       "      <td>0.0</td>\n",
       "      <td>0.0</td>\n",
       "      <td>0.0</td>\n",
       "      <td>0.0</td>\n",
       "      <td>0.0</td>\n",
       "      <td>...</td>\n",
       "      <td>0.0</td>\n",
       "      <td>0.0</td>\n",
       "      <td>0.0</td>\n",
       "      <td>0.0</td>\n",
       "      <td>0.0</td>\n",
       "      <td>0.0</td>\n",
       "      <td>0.0</td>\n",
       "      <td>0.0</td>\n",
       "      <td>0.0</td>\n",
       "      <td>0.0</td>\n",
       "    </tr>\n",
       "    <tr>\n",
       "      <th>3</th>\n",
       "      <td>0.0</td>\n",
       "      <td>0.0</td>\n",
       "      <td>0.0</td>\n",
       "      <td>0.0</td>\n",
       "      <td>0.0</td>\n",
       "      <td>0.0</td>\n",
       "      <td>0.0</td>\n",
       "      <td>0.0</td>\n",
       "      <td>0.0</td>\n",
       "      <td>0.0</td>\n",
       "      <td>...</td>\n",
       "      <td>0.0</td>\n",
       "      <td>0.0</td>\n",
       "      <td>0.0</td>\n",
       "      <td>0.0</td>\n",
       "      <td>0.0</td>\n",
       "      <td>0.0</td>\n",
       "      <td>0.0</td>\n",
       "      <td>0.0</td>\n",
       "      <td>0.0</td>\n",
       "      <td>0.0</td>\n",
       "    </tr>\n",
       "    <tr>\n",
       "      <th>4</th>\n",
       "      <td>0.0</td>\n",
       "      <td>0.0</td>\n",
       "      <td>0.0</td>\n",
       "      <td>0.0</td>\n",
       "      <td>0.0</td>\n",
       "      <td>0.0</td>\n",
       "      <td>0.0</td>\n",
       "      <td>0.0</td>\n",
       "      <td>0.0</td>\n",
       "      <td>0.0</td>\n",
       "      <td>...</td>\n",
       "      <td>0.0</td>\n",
       "      <td>0.0</td>\n",
       "      <td>0.0</td>\n",
       "      <td>0.0</td>\n",
       "      <td>0.0</td>\n",
       "      <td>0.0</td>\n",
       "      <td>0.0</td>\n",
       "      <td>0.0</td>\n",
       "      <td>0.0</td>\n",
       "      <td>0.0</td>\n",
       "    </tr>\n",
       "    <tr>\n",
       "      <th>...</th>\n",
       "      <td>...</td>\n",
       "      <td>...</td>\n",
       "      <td>...</td>\n",
       "      <td>...</td>\n",
       "      <td>...</td>\n",
       "      <td>...</td>\n",
       "      <td>...</td>\n",
       "      <td>...</td>\n",
       "      <td>...</td>\n",
       "      <td>...</td>\n",
       "      <td>...</td>\n",
       "      <td>...</td>\n",
       "      <td>...</td>\n",
       "      <td>...</td>\n",
       "      <td>...</td>\n",
       "      <td>...</td>\n",
       "      <td>...</td>\n",
       "      <td>...</td>\n",
       "      <td>...</td>\n",
       "      <td>...</td>\n",
       "      <td>...</td>\n",
       "    </tr>\n",
       "    <tr>\n",
       "      <th>7495</th>\n",
       "      <td>0.0</td>\n",
       "      <td>0.0</td>\n",
       "      <td>0.0</td>\n",
       "      <td>0.0</td>\n",
       "      <td>0.0</td>\n",
       "      <td>0.0</td>\n",
       "      <td>0.0</td>\n",
       "      <td>0.0</td>\n",
       "      <td>0.0</td>\n",
       "      <td>0.0</td>\n",
       "      <td>...</td>\n",
       "      <td>0.0</td>\n",
       "      <td>0.0</td>\n",
       "      <td>0.0</td>\n",
       "      <td>0.0</td>\n",
       "      <td>0.0</td>\n",
       "      <td>0.0</td>\n",
       "      <td>0.0</td>\n",
       "      <td>0.0</td>\n",
       "      <td>0.0</td>\n",
       "      <td>0.0</td>\n",
       "    </tr>\n",
       "    <tr>\n",
       "      <th>7496</th>\n",
       "      <td>0.0</td>\n",
       "      <td>0.0</td>\n",
       "      <td>0.0</td>\n",
       "      <td>0.0</td>\n",
       "      <td>0.0</td>\n",
       "      <td>0.0</td>\n",
       "      <td>0.0</td>\n",
       "      <td>0.0</td>\n",
       "      <td>0.0</td>\n",
       "      <td>0.0</td>\n",
       "      <td>...</td>\n",
       "      <td>0.0</td>\n",
       "      <td>0.0</td>\n",
       "      <td>0.0</td>\n",
       "      <td>0.0</td>\n",
       "      <td>0.0</td>\n",
       "      <td>0.0</td>\n",
       "      <td>0.0</td>\n",
       "      <td>0.0</td>\n",
       "      <td>0.0</td>\n",
       "      <td>0.0</td>\n",
       "    </tr>\n",
       "    <tr>\n",
       "      <th>7497</th>\n",
       "      <td>0.0</td>\n",
       "      <td>0.0</td>\n",
       "      <td>0.0</td>\n",
       "      <td>0.0</td>\n",
       "      <td>0.0</td>\n",
       "      <td>0.0</td>\n",
       "      <td>0.0</td>\n",
       "      <td>0.0</td>\n",
       "      <td>0.0</td>\n",
       "      <td>0.0</td>\n",
       "      <td>...</td>\n",
       "      <td>0.0</td>\n",
       "      <td>0.0</td>\n",
       "      <td>0.0</td>\n",
       "      <td>0.0</td>\n",
       "      <td>0.0</td>\n",
       "      <td>0.0</td>\n",
       "      <td>0.0</td>\n",
       "      <td>0.0</td>\n",
       "      <td>0.0</td>\n",
       "      <td>0.0</td>\n",
       "    </tr>\n",
       "    <tr>\n",
       "      <th>7498</th>\n",
       "      <td>0.0</td>\n",
       "      <td>0.0</td>\n",
       "      <td>0.0</td>\n",
       "      <td>0.0</td>\n",
       "      <td>0.0</td>\n",
       "      <td>0.0</td>\n",
       "      <td>0.0</td>\n",
       "      <td>0.0</td>\n",
       "      <td>0.0</td>\n",
       "      <td>0.0</td>\n",
       "      <td>...</td>\n",
       "      <td>0.0</td>\n",
       "      <td>0.0</td>\n",
       "      <td>0.0</td>\n",
       "      <td>0.0</td>\n",
       "      <td>0.0</td>\n",
       "      <td>0.0</td>\n",
       "      <td>0.0</td>\n",
       "      <td>0.0</td>\n",
       "      <td>0.0</td>\n",
       "      <td>0.0</td>\n",
       "    </tr>\n",
       "    <tr>\n",
       "      <th>7499</th>\n",
       "      <td>0.0</td>\n",
       "      <td>0.0</td>\n",
       "      <td>0.0</td>\n",
       "      <td>0.0</td>\n",
       "      <td>0.0</td>\n",
       "      <td>0.0</td>\n",
       "      <td>0.0</td>\n",
       "      <td>0.0</td>\n",
       "      <td>0.0</td>\n",
       "      <td>0.0</td>\n",
       "      <td>...</td>\n",
       "      <td>0.0</td>\n",
       "      <td>0.0</td>\n",
       "      <td>0.0</td>\n",
       "      <td>0.0</td>\n",
       "      <td>0.0</td>\n",
       "      <td>0.0</td>\n",
       "      <td>0.0</td>\n",
       "      <td>0.0</td>\n",
       "      <td>0.0</td>\n",
       "      <td>0.0</td>\n",
       "    </tr>\n",
       "  </tbody>\n",
       "</table>\n",
       "<p>7500 rows × 10257 columns</p>\n",
       "</div>"
      ],
      "text/plain": [
       "      http://t.co/mphby49eei  juan  lana  http://t.co/vqvmrn3br1  abp  \\\n",
       "0                        0.0   0.0   0.0                     0.0  0.0   \n",
       "1                        0.0   0.0   0.0                     0.0  0.0   \n",
       "2                        0.0   0.0   0.0                     0.0  0.0   \n",
       "3                        0.0   0.0   0.0                     0.0  0.0   \n",
       "4                        0.0   0.0   0.0                     0.0  0.0   \n",
       "...                      ...   ...   ...                     ...  ...   \n",
       "7495                     0.0   0.0   0.0                     0.0  0.0   \n",
       "7496                     0.0   0.0   0.0                     0.0  0.0   \n",
       "7497                     0.0   0.0   0.0                     0.0  0.0   \n",
       "7498                     0.0   0.0   0.0                     0.0  0.0   \n",
       "7499                     0.0   0.0   0.0                     0.0  0.0   \n",
       "\n",
       "      megafauna  caramoan  cope  #hashtag  grandma  ...  #frnd  steve  \\\n",
       "0           0.0       0.0   0.0       0.0      0.0  ...    0.0    0.0   \n",
       "1           0.0       0.0   0.0       0.0      0.0  ...    0.0    0.0   \n",
       "2           0.0       0.0   0.0       0.0      0.0  ...    0.0    0.0   \n",
       "3           0.0       0.0   0.0       0.0      0.0  ...    0.0    0.0   \n",
       "4           0.0       0.0   0.0       0.0      0.0  ...    0.0    0.0   \n",
       "...         ...       ...   ...       ...      ...  ...    ...    ...   \n",
       "7495        0.0       0.0   0.0       0.0      0.0  ...    0.0    0.0   \n",
       "7496        0.0       0.0   0.0       0.0      0.0  ...    0.0    0.0   \n",
       "7497        0.0       0.0   0.0       0.0      0.0  ...    0.0    0.0   \n",
       "7498        0.0       0.0   0.0       0.0      0.0  ...    0.0    0.0   \n",
       "7499        0.0       0.0   0.0       0.0      0.0  ...    0.0    0.0   \n",
       "\n",
       "      rehears  marino  everytim  silicon  esp  thrice  #familyhom  gelen  \n",
       "0         0.0     0.0       0.0      0.0  0.0     0.0         0.0    0.0  \n",
       "1         0.0     0.0       0.0      0.0  0.0     0.0         0.0    0.0  \n",
       "2         0.0     0.0       0.0      0.0  0.0     0.0         0.0    0.0  \n",
       "3         0.0     0.0       0.0      0.0  0.0     0.0         0.0    0.0  \n",
       "4         0.0     0.0       0.0      0.0  0.0     0.0         0.0    0.0  \n",
       "...       ...     ...       ...      ...  ...     ...         ...    ...  \n",
       "7495      0.0     0.0       0.0      0.0  0.0     0.0         0.0    0.0  \n",
       "7496      0.0     0.0       0.0      0.0  0.0     0.0         0.0    0.0  \n",
       "7497      0.0     0.0       0.0      0.0  0.0     0.0         0.0    0.0  \n",
       "7498      0.0     0.0       0.0      0.0  0.0     0.0         0.0    0.0  \n",
       "7499      0.0     0.0       0.0      0.0  0.0     0.0         0.0    0.0  \n",
       "\n",
       "[7500 rows x 10257 columns]"
      ]
     },
     "execution_count": 65,
     "metadata": {},
     "output_type": "execute_result"
    }
   ],
   "source": [
    "df = pd.DataFrame(data=bow_matrix_train,columns=unique_words)\n",
    "df"
   ]
  },
  {
   "cell_type": "markdown",
   "id": "0f2ef226",
   "metadata": {},
   "source": [
    "# <span style=\"color: red; \">  **Creating test data and label it**  </span> \n"
   ]
  },
  {
   "cell_type": "code",
   "execution_count": 66,
   "id": "24657d31",
   "metadata": {},
   "outputs": [],
   "source": [
    "X_test_pp = preprocess_text(X_test)\n",
    "bow_matrix_test = np.zeros((len(X_test_pp),len(unique_words)))\n",
    "for i, tweet in enumerate(X_test_pp):\n",
    "    for word in tweet:\n",
    "        if word in unique_words:\n",
    "            bow_matrix_test[i,unique_words==word] += 1"
   ]
  },
  {
   "cell_type": "markdown",
   "id": "f31a7aba",
   "metadata": {},
   "source": [
    "# <span style=\"color: red; \">  **Using Naive Bayes as classification**  </span> "
   ]
  },
  {
   "cell_type": "code",
   "execution_count": 30,
   "id": "e6287485",
   "metadata": {},
   "outputs": [
    {
     "name": "stdout",
     "output_type": "stream",
     "text": [
      "[-10.63974211 -10.63974211  -9.94659493 ...  -9.54112983  -9.54112983\n",
      "  -9.54112983]\n"
     ]
    }
   ],
   "source": [
    "alpha = 1 # smooting fact\n",
    "M = bow_matrix_train.shape[1]\n",
    "\n",
    "# indices of positive tweets\n",
    "ind_pos = y_train==1\n",
    "\n",
    "# Word count for each term i in positive and negative tweets\n",
    "N_pos_i = bow_matrix_train[ ind_pos,:].sum(axis=0)\n",
    "N_neg_i = bow_matrix_train[~ind_pos,:].sum(axis=0)\n",
    "\n",
    "# Total word count in positive and negative tweets\n",
    "N_pos = N_pos_i.sum()\n",
    "N_neg = N_neg_i.sum()\n",
    "\n",
    "# Coefficients for positive and negative classes\n",
    "logp_pos_i = np.log( (N_pos_i+alpha)/(N_pos+M*alpha) )\n",
    "logp_neg_i = np.log( (N_neg_i+alpha)/(N_neg+M*alpha) )\n",
    "\n",
    "# Intercepts for positive and negative classes\n",
    "logp_pos = np.log( N_pos/(N_pos + N_neg) )\n",
    "logp_neg = np.log( N_neg/(N_pos + N_neg) )\n",
    "\n",
    "print(logp_pos_i)"
   ]
  },
  {
   "cell_type": "code",
   "execution_count": 31,
   "id": "fff33f52",
   "metadata": {},
   "outputs": [],
   "source": [
    "naive_bayes = MultinomialNB(alpha=1.0, fit_prior=False).fit(bow_matrix_train,y_train)"
   ]
  },
  {
   "cell_type": "code",
   "execution_count": 32,
   "id": "efb133cd",
   "metadata": {},
   "outputs": [
    {
     "name": "stdout",
     "output_type": "stream",
     "text": [
      "[-10.63974211 -10.63974211  -9.94659493 ...  -9.54112983  -9.54112983\n",
      "  -9.54112983]\n"
     ]
    }
   ],
   "source": [
    "print(naive_bayes.feature_log_prob_[1])"
   ]
  },
  {
   "cell_type": "code",
   "execution_count": 33,
   "id": "06a755ff",
   "metadata": {},
   "outputs": [
    {
     "data": {
      "text/plain": [
       "0.9948"
      ]
     },
     "execution_count": 33,
     "metadata": {},
     "output_type": "execute_result"
    }
   ],
   "source": [
    "naive_bayes.score(bow_matrix_test, y_test)"
   ]
  },
  {
   "cell_type": "code",
   "execution_count": 34,
   "id": "ac8d60a3",
   "metadata": {},
   "outputs": [
    {
     "data": {
      "text/plain": [
       "<sklearn.metrics._plot.confusion_matrix.ConfusionMatrixDisplay at 0x2333edcf5d0>"
      ]
     },
     "execution_count": 34,
     "metadata": {},
     "output_type": "execute_result"
    },
    {
     "data": {
      "image/png": "[encoded data removed]",
      "text/plain": [
       "<Figure size 640x480 with 2 Axes>"
      ]
     },
     "metadata": {},
     "output_type": "display_data"
    }
   ],
   "source": [
    "ConfusionMatrixDisplay.from_estimator(naive_bayes, bow_matrix_test, y_test)"
   ]
  },
  {
   "cell_type": "markdown",
   "id": "886545b5",
   "metadata": {},
   "source": [
    "# <span style=\"color: red; \">  **Using Logistic regression as classification**  </span> "
   ]
  },
  {
   "cell_type": "code",
   "execution_count": 35,
   "id": "bb57392b",
   "metadata": {},
   "outputs": [],
   "source": [
    "lr_full = LogisticRegression().fit(bow_matrix_train,y_train)"
   ]
  },
  {
   "cell_type": "code",
   "execution_count": 36,
   "id": "56158cc3",
   "metadata": {},
   "outputs": [
    {
     "data": {
      "image/png": "[encoded data removed]",
      "text/plain": [
       "<Figure size 1500x500 with 1 Axes>"
      ]
     },
     "metadata": {},
     "output_type": "display_data"
    },
    {
     "data": {
      "image/png": "[encoded data removed]",
      "text/plain": [
       "<Figure size 1500x500 with 1 Axes>"
      ]
     },
     "metadata": {},
     "output_type": "display_data"
    }
   ],
   "source": [
    "ind = np.argsort(lr_full.coef_[0])\n",
    "\n",
    "n = \n",
    "plt.figure(figsize=(15,5))\n",
    "plt.bar([unique_words[i] for i in ind[:n]], lr_full.coef_[0,ind[:n]])\n",
    "plt.yticks(fontsize=14)\n",
    "plt.xticks(fontsize=14)\n",
    "\n",
    "plt.figure(figsize=(15,5))\n",
    "plt.bar([unique_words[i] for i in ind[-n:]], lr_full.coef_[0,ind[-n:]])\n",
    "plt.yticks(fontsize=14)\n",
    "plt.xticks(fontsize=14)\n",
    "plt.show()"
   ]
  },
  {
   "cell_type": "code",
   "execution_count": 37,
   "id": "e6260ebf",
   "metadata": {},
   "outputs": [
    {
     "data": {
      "text/plain": [
       "0.9988"
      ]
     },
     "execution_count": 37,
     "metadata": {},
     "output_type": "execute_result"
    }
   ],
   "source": [
    "lr_full.score(bow_matrix_test, y_test)"
   ]
  },
  {
   "cell_type": "code",
   "execution_count": 38,
   "id": "017dcd00",
   "metadata": {},
   "outputs": [
    {
     "data": {
      "text/plain": [
       "<sklearn.metrics._plot.confusion_matrix.ConfusionMatrixDisplay at 0x23369b5e750>"
      ]
     },
     "execution_count": 38,
     "metadata": {},
     "output_type": "execute_result"
    },
    {
     "data": {
      "image/png": "[encoded data removed]",
      "text/plain": [
       "<Figure size 640x480 with 2 Axes>"
      ]
     },
     "metadata": {},
     "output_type": "display_data"
    }
   ],
   "source": [
    "ConfusionMatrixDisplay.from_estimator(lr_full, bow_matrix_test, y_test)"
   ]
  },
  {
   "cell_type": "markdown",
   "id": "a2226a80-fda2-4b96-a655-8a1e3badb265",
   "metadata": {},
   "source": [
    "# <span style=\"color: red; \">  **Using Support Vector Machine as classification**  </span> "
   ]
  },
  {
   "cell_type": "code",
   "execution_count": 67,
   "id": "5f4dd27e-02d3-460c-a913-ff5a31ebe6ea",
   "metadata": {},
   "outputs": [],
   "source": [
    "#fit the model \n",
    "svc_full = SVC().fit(bow_matrix_train,y_train)"
   ]
  },
  {
   "cell_type": "code",
   "execution_count": 68,
   "id": "b5ddf13c-fef2-499b-b95a-e85c8d3d441d",
   "metadata": {},
   "outputs": [
    {
     "data": {
      "text/plain": [
       "0.9976"
      ]
     },
     "execution_count": 68,
     "metadata": {},
     "output_type": "execute_result"
    }
   ],
   "source": [
    "#check the socre of the model \n",
    "svc_full.score(bow_matrix_test, y_test)"
   ]
  },
  {
   "cell_type": "code",
   "execution_count": null,
   "id": "d6c69bb8-3282-4070-b008-867f687e2771",
   "metadata": {},
   "outputs": [],
   "source": [
    "\n",
    "result = permutation_importance(svc_full, bow_matrix_test, y_test, n_repeats=10, random_state=42, n_jobs=2)\n",
    "resutls "
   ]
  },
  {
   "cell_type": "code",
   "execution_count": null,
   "id": "623594fe-9684-45aa-a478-109de1cb58d0",
   "metadata": {},
   "outputs": [],
   "source": [
    "ConfusionMatrixDisplay.from_estimator(svc_full, bow_matrix_test, y_test)"
   ]
  },
  {
   "cell_type": "code",
   "execution_count": null,
   "id": "c6d70d6b-f312-4ea8-99bb-f2711e00b099",
   "metadata": {},
   "outputs": [],
   "source": [
    "# <span style=\"color: red; \">  **Using Decision Trees as classification**  </span> "
   ]
  },
  {
   "cell_type": "code",
   "execution_count": 50,
   "id": "6433bb35-0970-426f-8dfc-0265511dcf1e",
   "metadata": {},
   "outputs": [],
   "source": [
    "dt_full = DecisionTreeClassifier().fit(bow_matrix_train,y_train)\n"
   ]
  },
  {
   "cell_type": "code",
   "execution_count": 51,
   "id": "ee2bca12-a582-4cca-b5a7-ec3defa0eb18",
   "metadata": {},
   "outputs": [
    {
     "data": {
      "text/plain": [
       "0.9464"
      ]
     },
     "execution_count": 51,
     "metadata": {},
     "output_type": "execute_result"
    }
   ],
   "source": [
    "dt_full.score(bow_matrix_test, y_test)\n"
   ]
  },
  {
   "cell_type": "code",
   "execution_count": 52,
   "id": "a53e9291-d036-423d-9c2e-4cb1e54a4970",
   "metadata": {},
   "outputs": [
    {
     "data": {
      "text/plain": [
       "<sklearn.metrics._plot.confusion_matrix.ConfusionMatrixDisplay at 0x256830e3350>"
      ]
     },
     "execution_count": 52,
     "metadata": {},
     "output_type": "execute_result"
    },
    {
     "data": {
      "image/png": "[encoded data removed]",
      "text/plain": [
       "<Figure size 640x480 with 2 Axes>"
      ]
     },
     "metadata": {},
     "output_type": "display_data"
    }
   ],
   "source": [
    "ConfusionMatrixDisplay.from_estimator(dt_full, bow_matrix_test, y_test)"
   ]
  },
  {
   "cell_type": "code",
   "execution_count": 56,
   "id": "b58258aa-1fd9-4b74-b65f-fcf806143751",
   "metadata": {},
   "outputs": [],
   "source": [
    "knn_full = NearestNeighbors().fit(bow_matrix_train,y_train)"
   ]
  },
  {
   "cell_type": "code",
   "execution_count": 57,
   "id": "9459c133-57c5-46cd-9b59-e71b7441e18d",
   "metadata": {},
   "outputs": [
    {
     "ename": "AttributeError",
     "evalue": "'NearestNeighbors' object has no attribute 'score'",
     "output_type": "error",
     "traceback": [
      "\u001b[1;31m---------------------------------------------------------------------------\u001b[0m",
      "\u001b[1;31mAttributeError\u001b[0m                            Traceback (most recent call last)",
      "Cell \u001b[1;32mIn[57], line 1\u001b[0m\n\u001b[1;32m----> 1\u001b[0m knn_full\u001b[38;5;241m.\u001b[39mscore(bow_matrix_test, y_test)\n",
      "\u001b[1;31mAttributeError\u001b[0m: 'NearestNeighbors' object has no attribute 'score'"
     ]
    }
   ],
   "source": [
    "knn_full.score(bow_matrix_test, y_test)"
   ]
  },
  {
   "cell_type": "code",
   "execution_count": 58,
   "id": "12e4fb38-a7fe-441c-ba17-3e6b5c4cf34b",
   "metadata": {},
   "outputs": [
    {
     "data": {
      "text/plain": [
       "<sklearn.metrics._plot.confusion_matrix.ConfusionMatrixDisplay at 0x25683233250>"
      ]
     },
     "execution_count": 58,
     "metadata": {},
     "output_type": "execute_result"
    },
    {
     "data": {
      "image/png": "[encoded data removed]",
      "text/plain": [
       "<Figure size 640x480 with 2 Axes>"
      ]
     },
     "metadata": {},
     "output_type": "display_data"
    }
   ],
   "source": [
    "ConfusionMatrixDisplay.from_estimator(dt_full, bow_matrix_test, y_test)"
   ]
  },
  {
   "cell_type": "code",
   "execution_count": 43,
   "id": "484263a4",
   "metadata": {},
   "outputs": [
    {
     "data": {
      "text/plain": [
       "<sklearn.metrics._plot.confusion_matrix.ConfusionMatrixDisplay at 0x256d787d6d0>"
      ]
     },
     "execution_count": 43,
     "metadata": {},
     "output_type": "execute_result"
    },
    {
     "data": {
      "image/png": "[encoded data removed]",
      "text/plain": [
       "<Figure size 640x480 with 2 Axes>"
      ]
     },
     "metadata": {},
     "output_type": "display_data"
    }
   ],
   "source": [
    "ConfusionMatrixDisplay.from_estimator(lr_red, bow_matrix_test_red, y_test_red)"
   ]
  },
  {
   "cell_type": "code",
   "execution_count": null,
   "id": "6fd5a9c6",
   "metadata": {},
   "outputs": [],
   "source": []
  },
  {
   "cell_type": "markdown",
   "id": "afc7961e-ec88-49c1-81c0-a8e17489c9fb",
   "metadata": {},
   "source": [
    "# <span style=\"color: red; \">  **Named Entities in NLP**  </span> "
   ]
  },
  {
   "cell_type": "code",
   "execution_count": 2,
   "id": "08ff914d-8012-4793-85af-5281c54c1b90",
   "metadata": {},
   "outputs": [],
   "source": [
    "# Creating text  \n",
    "text  = '''\n",
    "Since the ancients (as we are told by Pappus), made great account of the science of mechanics in the investigation of natural things; and the moderns, laying aside substantial forms and occult qualities, have endeavoured to subject the phænomena of nature to the laws of mathematics, I have in this treatise cultivated mathematics so far as it regards philosophy. The ancients considered mechanics in a twofold respect; as rational, which proceeds accurately by demonstration: and practical. To practical mechanics all the manual arts belong, from which mechanics took its name. But as artificers do not work with perfect accuracy, it comes to pass that mechanics is so distinguished from geometry, that what is perfectly accurate is called geometrical, what is less so, is called mechanical. But the errors are not in the art, but in the artificers. He that works with less accuracy is an imperfect mechanic; and if any could work with perfect accuracy, he would be the most perfect mechanic of all; for the description if right lines and circles, upon which geometry is founded, belongs to mechanics. Geometry does not teach us to draw these lines, but requires them to be drawn; for it requires that the learner should first be taught to describe these accurately, before he enters upon geometry; then it shows how by these operations problems may be solved. To describe right lines and circles are problems, but not geometrical problems. The solution of these problems is required from mechanics; and by geometry the use of them, when so solved, is shown; and it is the glory of geometry that from those few principles, brought from without, it is able to produce so many things. Therefore geometry is founded in mechanical practice, and is nothing but that part of universal mechanics which accurately proposes and demonstrates the art of measuring. But since the manual arts are chiefly conversant in the moving of bodies, it comes to pass that geometry is commonly referred to their magnitudes, and mechanics to their motion. In this sense rational mechanics will be the science of motions resulting from any forces whatsoever, and of the forces required to produce any motions, accurately proposed and demonstrated. This part of mechanics was cultivated by the ancients in the five powers which relate to manual arts, who considered gravity (it not being a manual power), no otherwise than as it moved weights by those powers. Our design not respecting arts, but philosophy, and our subject not manual but natural powers, we consider chiefly those things which relate to gravity, levity, elastic force, the resistance of fluids, and the like forces, whether attractive or impulsive; and therefore we offer this work as the mathematical principles if philosophy; for all the difficulty of philosophy seems to consist in this—from the phænomena of motions to investigate the forces of nature, and then from these forces to demonstrate the other phænomena; and to this end the general propositions in the first and second book are directed. In the third book we give an example of this in the explication of the System of the World; for by the propositions mathematically demonstrated in the former books, we in the third derive from the celestial phenomena the forces of gravity with which bodies tend to the sun and the several planets. Then from these forces, by other propositions which are also mathematical, we deduce the motions of the planets, the comets, the moon, and the sea. I wish we could derive the rest of the phænomena of nature by the same kind of reasoning from mechanical principles; for I am induced by many reasons to suspect that they may all depend upon certain forces by which the particles of bodies, by some causes hitherto unknown, are either mutually impelled towards each other, and cohere in regular figures, or are repelled and recede from each other; which forces being unknown, philosophers have hitherto attempted the search of nature in vain; but I hope the principles here laid down will afford some light either to this or some truer method of philosophy.'''"
   ]
  },
  {
   "cell_type": "code",
   "execution_count": 3,
   "id": "c2286896-3914-42f9-84b3-ef1b82bd52aa",
   "metadata": {},
   "outputs": [
    {
     "data": {
      "text/plain": [
       "'\\nSince the ancients (as we are told by Pappus), made great account of the science of mechanics in the investigation of natural things; and the moderns, laying aside substantial forms and occult qualities, have endeavoured to subject the phænomena of nature to the laws of mathematics, I have in this treatise cultivated mathematics so far as it regards philosophy. The ancients considered mechanics in a twofold respect; as rational, which proceeds accurately by demonstration: and practical. To practical mechanics all the manual arts belong, from which mechanics took its name. But as artificers do not work with perfect accuracy, it comes to pass that mechanics is so distinguished from geometry, that what is perfectly accurate is called geometrical, what is less so, is called mechanical. But the errors are not in the art, but in the artificers. He that works with less accuracy is an imperfect mechanic; and if any could work with perfect accuracy, he would be the most perfect mechanic of all; for the description if right lines and circles, upon which geometry is founded, belongs to mechanics. Geometry does not teach us to draw these lines, but requires them to be drawn; for it requires that the learner should first be taught to describe these accurately, before he enters upon geometry; then it shows how by these operations problems may be solved. To describe right lines and circles are problems, but not geometrical problems. The solution of these problems is required from mechanics; and by geometry the use of them, when so solved, is shown; and it is the glory of geometry that from those few principles, brought from without, it is able to produce so many things. Therefore geometry is founded in mechanical practice, and is nothing but that part of universal mechanics which accurately proposes and demonstrates the art of measuring. But since the manual arts are chiefly conversant in the moving of bodies, it comes to pass that geometry is commonly referred to their magnitudes, and mechanics to their motion. In this sense rational mechanics will be the science of motions resulting from any forces whatsoever, and of the forces required to produce any motions, accurately proposed and demonstrated. This part of mechanics was cultivated by the ancients in the five powers which relate to manual arts, who considered gravity (it not being a manual power), no otherwise than as it moved weights by those powers. Our design not respecting arts, but philosophy, and our subject not manual but natural powers, we consider chiefly those things which relate to gravity, levity, elastic force, the resistance of fluids, and the like forces, whether attractive or impulsive; and therefore we offer this work as the mathematical principles if philosophy; for all the difficulty of philosophy seems to consist in this—from the phænomena of motions to investigate the forces of nature, and then from these forces to demonstrate the other phænomena; and to this end the general propositions in the first and second book are directed. In the third book we give an example of this in the explication of the System of the World; for by the propositions mathematically demonstrated in the former books, we in the third derive from the celestial phenomena the forces of gravity with which bodies tend to the sun and the several planets. Then from these forces, by other propositions which are also mathematical, we deduce the motions of the planets, the comets, the moon, and the sea. I wish we could derive the rest of the phænomena of nature by the same kind of reasoning from mechanical principles; for I am induced by many reasons to suspect that they may all depend upon certain forces by which the particles of bodies, by some causes hitherto unknown, are either mutually impelled towards each other, and cohere in regular figures, or are repelled and recede from each other; which forces being unknown, philosophers have hitherto attempted the search of nature in vain; but I hope the principles here laid down will afford some light either to this or some truer method of philosophy.'"
      ]
     },
     "execution_count": 3,
     "metadata": {},
     "output_type": "execute_result"
    }
   ],
   "source": [
    "text"
   ]
  },
  {
   "cell_type": "markdown",
   "id": "a7693ec1-0c25-4656-b34e-0383eeb80fa8",
   "metadata": {},
   "source": [
    "####  \n",
    "### <span style=\"color: red; \">  **Tokenizing a String in word**  </span> "
   ]
  },
  {
   "cell_type": "code",
   "execution_count": 4,
   "id": "51021990",
   "metadata": {},
   "outputs": [],
   "source": [
    "word_tkn= word_tokenize(text)"
   ]
  },
  {
   "cell_type": "code",
   "execution_count": 5,
   "id": "90db4b80-f2de-4501-9291-112f1cd33ed1",
   "metadata": {},
   "outputs": [
    {
     "data": {
      "text/plain": [
       "['Since',\n",
       " 'the',\n",
       " 'ancients',\n",
       " '(',\n",
       " 'as',\n",
       " 'we',\n",
       " 'are',\n",
       " 'told',\n",
       " 'by',\n",
       " 'Pappus',\n",
       " ')',\n",
       " ',',\n",
       " 'made',\n",
       " 'great',\n",
       " 'account',\n",
       " 'of',\n",
       " 'the',\n",
       " 'science',\n",
       " 'of',\n",
       " 'mechanics',\n",
       " 'in',\n",
       " 'the',\n",
       " 'investigation',\n",
       " 'of',\n",
       " 'natural',\n",
       " 'things',\n",
       " ';',\n",
       " 'and',\n",
       " 'the',\n",
       " 'moderns',\n",
       " ',',\n",
       " 'laying',\n",
       " 'aside',\n",
       " 'substantial',\n",
       " 'forms',\n",
       " 'and',\n",
       " 'occult',\n",
       " 'qualities',\n",
       " ',',\n",
       " 'have',\n",
       " 'endeavoured',\n",
       " 'to',\n",
       " 'subject',\n",
       " 'the',\n",
       " 'phænomena',\n",
       " 'of',\n",
       " 'nature',\n",
       " 'to',\n",
       " 'the',\n",
       " 'laws',\n",
       " 'of',\n",
       " 'mathematics',\n",
       " ',',\n",
       " 'I',\n",
       " 'have',\n",
       " 'in',\n",
       " 'this',\n",
       " 'treatise',\n",
       " 'cultivated',\n",
       " 'mathematics',\n",
       " 'so',\n",
       " 'far',\n",
       " 'as',\n",
       " 'it',\n",
       " 'regards',\n",
       " 'philosophy',\n",
       " '.',\n",
       " 'The',\n",
       " 'ancients',\n",
       " 'considered',\n",
       " 'mechanics',\n",
       " 'in',\n",
       " 'a',\n",
       " 'twofold',\n",
       " 'respect',\n",
       " ';',\n",
       " 'as',\n",
       " 'rational',\n",
       " ',',\n",
       " 'which',\n",
       " 'proceeds',\n",
       " 'accurately',\n",
       " 'by',\n",
       " 'demonstration',\n",
       " ':',\n",
       " 'and',\n",
       " 'practical',\n",
       " '.',\n",
       " 'To',\n",
       " 'practical',\n",
       " 'mechanics',\n",
       " 'all',\n",
       " 'the',\n",
       " 'manual',\n",
       " 'arts',\n",
       " 'belong',\n",
       " ',',\n",
       " 'from',\n",
       " 'which',\n",
       " 'mechanics',\n",
       " 'took',\n",
       " 'its',\n",
       " 'name',\n",
       " '.',\n",
       " 'But',\n",
       " 'as',\n",
       " 'artificers',\n",
       " 'do',\n",
       " 'not',\n",
       " 'work',\n",
       " 'with',\n",
       " 'perfect',\n",
       " 'accuracy',\n",
       " ',',\n",
       " 'it',\n",
       " 'comes',\n",
       " 'to',\n",
       " 'pass',\n",
       " 'that',\n",
       " 'mechanics',\n",
       " 'is',\n",
       " 'so',\n",
       " 'distinguished',\n",
       " 'from',\n",
       " 'geometry',\n",
       " ',',\n",
       " 'that',\n",
       " 'what',\n",
       " 'is',\n",
       " 'perfectly',\n",
       " 'accurate',\n",
       " 'is',\n",
       " 'called',\n",
       " 'geometrical',\n",
       " ',',\n",
       " 'what',\n",
       " 'is',\n",
       " 'less',\n",
       " 'so',\n",
       " ',',\n",
       " 'is',\n",
       " 'called',\n",
       " 'mechanical',\n",
       " '.',\n",
       " 'But',\n",
       " 'the',\n",
       " 'errors',\n",
       " 'are',\n",
       " 'not',\n",
       " 'in',\n",
       " 'the',\n",
       " 'art',\n",
       " ',',\n",
       " 'but',\n",
       " 'in',\n",
       " 'the',\n",
       " 'artificers',\n",
       " '.',\n",
       " 'He',\n",
       " 'that',\n",
       " 'works',\n",
       " 'with',\n",
       " 'less',\n",
       " 'accuracy',\n",
       " 'is',\n",
       " 'an',\n",
       " 'imperfect',\n",
       " 'mechanic',\n",
       " ';',\n",
       " 'and',\n",
       " 'if',\n",
       " 'any',\n",
       " 'could',\n",
       " 'work',\n",
       " 'with',\n",
       " 'perfect',\n",
       " 'accuracy',\n",
       " ',',\n",
       " 'he',\n",
       " 'would',\n",
       " 'be',\n",
       " 'the',\n",
       " 'most',\n",
       " 'perfect',\n",
       " 'mechanic',\n",
       " 'of',\n",
       " 'all',\n",
       " ';',\n",
       " 'for',\n",
       " 'the',\n",
       " 'description',\n",
       " 'if',\n",
       " 'right',\n",
       " 'lines',\n",
       " 'and',\n",
       " 'circles',\n",
       " ',',\n",
       " 'upon',\n",
       " 'which',\n",
       " 'geometry',\n",
       " 'is',\n",
       " 'founded',\n",
       " ',',\n",
       " 'belongs',\n",
       " 'to',\n",
       " 'mechanics',\n",
       " '.',\n",
       " 'Geometry',\n",
       " 'does',\n",
       " 'not',\n",
       " 'teach',\n",
       " 'us',\n",
       " 'to',\n",
       " 'draw',\n",
       " 'these',\n",
       " 'lines',\n",
       " ',',\n",
       " 'but',\n",
       " 'requires',\n",
       " 'them',\n",
       " 'to',\n",
       " 'be',\n",
       " 'drawn',\n",
       " ';',\n",
       " 'for',\n",
       " 'it',\n",
       " 'requires',\n",
       " 'that',\n",
       " 'the',\n",
       " 'learner',\n",
       " 'should',\n",
       " 'first',\n",
       " 'be',\n",
       " 'taught',\n",
       " 'to',\n",
       " 'describe',\n",
       " 'these',\n",
       " 'accurately',\n",
       " ',',\n",
       " 'before',\n",
       " 'he',\n",
       " 'enters',\n",
       " 'upon',\n",
       " 'geometry',\n",
       " ';',\n",
       " 'then',\n",
       " 'it',\n",
       " 'shows',\n",
       " 'how',\n",
       " 'by',\n",
       " 'these',\n",
       " 'operations',\n",
       " 'problems',\n",
       " 'may',\n",
       " 'be',\n",
       " 'solved',\n",
       " '.',\n",
       " 'To',\n",
       " 'describe',\n",
       " 'right',\n",
       " 'lines',\n",
       " 'and',\n",
       " 'circles',\n",
       " 'are',\n",
       " 'problems',\n",
       " ',',\n",
       " 'but',\n",
       " 'not',\n",
       " 'geometrical',\n",
       " 'problems',\n",
       " '.',\n",
       " 'The',\n",
       " 'solution',\n",
       " 'of',\n",
       " 'these',\n",
       " 'problems',\n",
       " 'is',\n",
       " 'required',\n",
       " 'from',\n",
       " 'mechanics',\n",
       " ';',\n",
       " 'and',\n",
       " 'by',\n",
       " 'geometry',\n",
       " 'the',\n",
       " 'use',\n",
       " 'of',\n",
       " 'them',\n",
       " ',',\n",
       " 'when',\n",
       " 'so',\n",
       " 'solved',\n",
       " ',',\n",
       " 'is',\n",
       " 'shown',\n",
       " ';',\n",
       " 'and',\n",
       " 'it',\n",
       " 'is',\n",
       " 'the',\n",
       " 'glory',\n",
       " 'of',\n",
       " 'geometry',\n",
       " 'that',\n",
       " 'from',\n",
       " 'those',\n",
       " 'few',\n",
       " 'principles',\n",
       " ',',\n",
       " 'brought',\n",
       " 'from',\n",
       " 'without',\n",
       " ',',\n",
       " 'it',\n",
       " 'is',\n",
       " 'able',\n",
       " 'to',\n",
       " 'produce',\n",
       " 'so',\n",
       " 'many',\n",
       " 'things',\n",
       " '.',\n",
       " 'Therefore',\n",
       " 'geometry',\n",
       " 'is',\n",
       " 'founded',\n",
       " 'in',\n",
       " 'mechanical',\n",
       " 'practice',\n",
       " ',',\n",
       " 'and',\n",
       " 'is',\n",
       " 'nothing',\n",
       " 'but',\n",
       " 'that',\n",
       " 'part',\n",
       " 'of',\n",
       " 'universal',\n",
       " 'mechanics',\n",
       " 'which',\n",
       " 'accurately',\n",
       " 'proposes',\n",
       " 'and',\n",
       " 'demonstrates',\n",
       " 'the',\n",
       " 'art',\n",
       " 'of',\n",
       " 'measuring',\n",
       " '.',\n",
       " 'But',\n",
       " 'since',\n",
       " 'the',\n",
       " 'manual',\n",
       " 'arts',\n",
       " 'are',\n",
       " 'chiefly',\n",
       " 'conversant',\n",
       " 'in',\n",
       " 'the',\n",
       " 'moving',\n",
       " 'of',\n",
       " 'bodies',\n",
       " ',',\n",
       " 'it',\n",
       " 'comes',\n",
       " 'to',\n",
       " 'pass',\n",
       " 'that',\n",
       " 'geometry',\n",
       " 'is',\n",
       " 'commonly',\n",
       " 'referred',\n",
       " 'to',\n",
       " 'their',\n",
       " 'magnitudes',\n",
       " ',',\n",
       " 'and',\n",
       " 'mechanics',\n",
       " 'to',\n",
       " 'their',\n",
       " 'motion',\n",
       " '.',\n",
       " 'In',\n",
       " 'this',\n",
       " 'sense',\n",
       " 'rational',\n",
       " 'mechanics',\n",
       " 'will',\n",
       " 'be',\n",
       " 'the',\n",
       " 'science',\n",
       " 'of',\n",
       " 'motions',\n",
       " 'resulting',\n",
       " 'from',\n",
       " 'any',\n",
       " 'forces',\n",
       " 'whatsoever',\n",
       " ',',\n",
       " 'and',\n",
       " 'of',\n",
       " 'the',\n",
       " 'forces',\n",
       " 'required',\n",
       " 'to',\n",
       " 'produce',\n",
       " 'any',\n",
       " 'motions',\n",
       " ',',\n",
       " 'accurately',\n",
       " 'proposed',\n",
       " 'and',\n",
       " 'demonstrated',\n",
       " '.',\n",
       " 'This',\n",
       " 'part',\n",
       " 'of',\n",
       " 'mechanics',\n",
       " 'was',\n",
       " 'cultivated',\n",
       " 'by',\n",
       " 'the',\n",
       " 'ancients',\n",
       " 'in',\n",
       " 'the',\n",
       " 'five',\n",
       " 'powers',\n",
       " 'which',\n",
       " 'relate',\n",
       " 'to',\n",
       " 'manual',\n",
       " 'arts',\n",
       " ',',\n",
       " 'who',\n",
       " 'considered',\n",
       " 'gravity',\n",
       " '(',\n",
       " 'it',\n",
       " 'not',\n",
       " 'being',\n",
       " 'a',\n",
       " 'manual',\n",
       " 'power',\n",
       " ')',\n",
       " ',',\n",
       " 'no',\n",
       " 'otherwise',\n",
       " 'than',\n",
       " 'as',\n",
       " 'it',\n",
       " 'moved',\n",
       " 'weights',\n",
       " 'by',\n",
       " 'those',\n",
       " 'powers',\n",
       " '.',\n",
       " 'Our',\n",
       " 'design',\n",
       " 'not',\n",
       " 'respecting',\n",
       " 'arts',\n",
       " ',',\n",
       " 'but',\n",
       " 'philosophy',\n",
       " ',',\n",
       " 'and',\n",
       " 'our',\n",
       " 'subject',\n",
       " 'not',\n",
       " 'manual',\n",
       " 'but',\n",
       " 'natural',\n",
       " 'powers',\n",
       " ',',\n",
       " 'we',\n",
       " 'consider',\n",
       " 'chiefly',\n",
       " 'those',\n",
       " 'things',\n",
       " 'which',\n",
       " 'relate',\n",
       " 'to',\n",
       " 'gravity',\n",
       " ',',\n",
       " 'levity',\n",
       " ',',\n",
       " 'elastic',\n",
       " 'force',\n",
       " ',',\n",
       " 'the',\n",
       " 'resistance',\n",
       " 'of',\n",
       " 'fluids',\n",
       " ',',\n",
       " 'and',\n",
       " 'the',\n",
       " 'like',\n",
       " 'forces',\n",
       " ',',\n",
       " 'whether',\n",
       " 'attractive',\n",
       " 'or',\n",
       " 'impulsive',\n",
       " ';',\n",
       " 'and',\n",
       " 'therefore',\n",
       " 'we',\n",
       " 'offer',\n",
       " 'this',\n",
       " 'work',\n",
       " 'as',\n",
       " 'the',\n",
       " 'mathematical',\n",
       " 'principles',\n",
       " 'if',\n",
       " 'philosophy',\n",
       " ';',\n",
       " 'for',\n",
       " 'all',\n",
       " 'the',\n",
       " 'difficulty',\n",
       " 'of',\n",
       " 'philosophy',\n",
       " 'seems',\n",
       " 'to',\n",
       " 'consist',\n",
       " 'in',\n",
       " 'this—from',\n",
       " 'the',\n",
       " 'phænomena',\n",
       " 'of',\n",
       " 'motions',\n",
       " 'to',\n",
       " 'investigate',\n",
       " 'the',\n",
       " 'forces',\n",
       " 'of',\n",
       " 'nature',\n",
       " ',',\n",
       " 'and',\n",
       " 'then',\n",
       " 'from',\n",
       " 'these',\n",
       " 'forces',\n",
       " 'to',\n",
       " 'demonstrate',\n",
       " 'the',\n",
       " 'other',\n",
       " 'phænomena',\n",
       " ';',\n",
       " 'and',\n",
       " 'to',\n",
       " 'this',\n",
       " 'end',\n",
       " 'the',\n",
       " 'general',\n",
       " 'propositions',\n",
       " 'in',\n",
       " 'the',\n",
       " 'first',\n",
       " 'and',\n",
       " 'second',\n",
       " 'book',\n",
       " 'are',\n",
       " 'directed',\n",
       " '.',\n",
       " 'In',\n",
       " 'the',\n",
       " 'third',\n",
       " 'book',\n",
       " 'we',\n",
       " 'give',\n",
       " 'an',\n",
       " 'example',\n",
       " 'of',\n",
       " 'this',\n",
       " 'in',\n",
       " 'the',\n",
       " 'explication',\n",
       " 'of',\n",
       " 'the',\n",
       " 'System',\n",
       " 'of',\n",
       " 'the',\n",
       " 'World',\n",
       " ';',\n",
       " 'for',\n",
       " 'by',\n",
       " 'the',\n",
       " 'propositions',\n",
       " 'mathematically',\n",
       " 'demonstrated',\n",
       " 'in',\n",
       " 'the',\n",
       " 'former',\n",
       " 'books',\n",
       " ',',\n",
       " 'we',\n",
       " 'in',\n",
       " 'the',\n",
       " 'third',\n",
       " 'derive',\n",
       " 'from',\n",
       " 'the',\n",
       " 'celestial',\n",
       " 'phenomena',\n",
       " 'the',\n",
       " 'forces',\n",
       " 'of',\n",
       " 'gravity',\n",
       " 'with',\n",
       " 'which',\n",
       " 'bodies',\n",
       " 'tend',\n",
       " 'to',\n",
       " 'the',\n",
       " 'sun',\n",
       " 'and',\n",
       " 'the',\n",
       " 'several',\n",
       " 'planets',\n",
       " '.',\n",
       " 'Then',\n",
       " 'from',\n",
       " 'these',\n",
       " 'forces',\n",
       " ',',\n",
       " 'by',\n",
       " 'other',\n",
       " 'propositions',\n",
       " 'which',\n",
       " 'are',\n",
       " 'also',\n",
       " 'mathematical',\n",
       " ',',\n",
       " 'we',\n",
       " 'deduce',\n",
       " 'the',\n",
       " 'motions',\n",
       " 'of',\n",
       " 'the',\n",
       " 'planets',\n",
       " ',',\n",
       " 'the',\n",
       " 'comets',\n",
       " ',',\n",
       " 'the',\n",
       " 'moon',\n",
       " ',',\n",
       " 'and',\n",
       " 'the',\n",
       " 'sea',\n",
       " '.',\n",
       " 'I',\n",
       " 'wish',\n",
       " 'we',\n",
       " 'could',\n",
       " 'derive',\n",
       " 'the',\n",
       " 'rest',\n",
       " 'of',\n",
       " 'the',\n",
       " 'phænomena',\n",
       " 'of',\n",
       " 'nature',\n",
       " 'by',\n",
       " 'the',\n",
       " 'same',\n",
       " 'kind',\n",
       " 'of',\n",
       " 'reasoning',\n",
       " 'from',\n",
       " 'mechanical',\n",
       " 'principles',\n",
       " ';',\n",
       " 'for',\n",
       " 'I',\n",
       " 'am',\n",
       " 'induced',\n",
       " 'by',\n",
       " 'many',\n",
       " 'reasons',\n",
       " 'to',\n",
       " 'suspect',\n",
       " 'that',\n",
       " 'they',\n",
       " 'may',\n",
       " 'all',\n",
       " 'depend',\n",
       " 'upon',\n",
       " 'certain',\n",
       " 'forces',\n",
       " 'by',\n",
       " 'which',\n",
       " 'the',\n",
       " 'particles',\n",
       " 'of',\n",
       " 'bodies',\n",
       " ',',\n",
       " 'by',\n",
       " 'some',\n",
       " 'causes',\n",
       " 'hitherto',\n",
       " 'unknown',\n",
       " ',',\n",
       " 'are',\n",
       " 'either',\n",
       " 'mutually',\n",
       " 'impelled',\n",
       " 'towards',\n",
       " 'each',\n",
       " 'other',\n",
       " ',',\n",
       " 'and',\n",
       " 'cohere',\n",
       " 'in',\n",
       " 'regular',\n",
       " 'figures',\n",
       " ',',\n",
       " 'or',\n",
       " 'are',\n",
       " 'repelled',\n",
       " 'and',\n",
       " 'recede',\n",
       " 'from',\n",
       " 'each',\n",
       " 'other',\n",
       " ';',\n",
       " 'which',\n",
       " 'forces',\n",
       " 'being',\n",
       " 'unknown',\n",
       " ',',\n",
       " 'philosophers',\n",
       " 'have',\n",
       " 'hitherto',\n",
       " 'attempted',\n",
       " 'the',\n",
       " 'search',\n",
       " 'of',\n",
       " 'nature',\n",
       " 'in',\n",
       " 'vain',\n",
       " ';',\n",
       " 'but',\n",
       " 'I',\n",
       " 'hope',\n",
       " 'the',\n",
       " 'principles',\n",
       " 'here',\n",
       " 'laid',\n",
       " 'down',\n",
       " 'will',\n",
       " 'afford',\n",
       " 'some',\n",
       " 'light',\n",
       " 'either',\n",
       " 'to',\n",
       " 'this',\n",
       " 'or',\n",
       " 'some',\n",
       " 'truer',\n",
       " 'method',\n",
       " 'of',\n",
       " 'philosophy',\n",
       " '.']"
      ]
     },
     "execution_count": 5,
     "metadata": {},
     "output_type": "execute_result"
    }
   ],
   "source": [
    "word_tkn"
   ]
  },
  {
   "cell_type": "markdown",
   "id": "f1c38eaf-dc54-4db6-8dab-bf319b1ddef4",
   "metadata": {},
   "source": [
    "####\n",
    "### <span style=\"color: red; \">  **Sentence Tokenization of a string**  </span> "
   ]
  },
  {
   "cell_type": "code",
   "execution_count": 6,
   "id": "3eb68054-983d-4555-a614-d5783797b333",
   "metadata": {},
   "outputs": [
    {
     "data": {
      "text/plain": [
       "['\\nSince the ancients (as we are told by Pappus), made great account of the science of mechanics in the investigation of natural things; and the moderns, laying aside substantial forms and occult qualities, have endeavoured to subject the phænomena of nature to the laws of mathematics, I have in this treatise cultivated mathematics so far as it regards philosophy.',\n",
       " 'The ancients considered mechanics in a twofold respect; as rational, which proceeds accurately by demonstration: and practical.',\n",
       " 'To practical mechanics all the manual arts belong, from which mechanics took its name.',\n",
       " 'But as artificers do not work with perfect accuracy, it comes to pass that mechanics is so distinguished from geometry, that what is perfectly accurate is called geometrical, what is less so, is called mechanical.',\n",
       " 'But the errors are not in the art, but in the artificers.',\n",
       " 'He that works with less accuracy is an imperfect mechanic; and if any could work with perfect accuracy, he would be the most perfect mechanic of all; for the description if right lines and circles, upon which geometry is founded, belongs to mechanics.',\n",
       " 'Geometry does not teach us to draw these lines, but requires them to be drawn; for it requires that the learner should first be taught to describe these accurately, before he enters upon geometry; then it shows how by these operations problems may be solved.',\n",
       " 'To describe right lines and circles are problems, but not geometrical problems.',\n",
       " 'The solution of these problems is required from mechanics; and by geometry the use of them, when so solved, is shown; and it is the glory of geometry that from those few principles, brought from without, it is able to produce so many things.',\n",
       " 'Therefore geometry is founded in mechanical practice, and is nothing but that part of universal mechanics which accurately proposes and demonstrates the art of measuring.',\n",
       " 'But since the manual arts are chiefly conversant in the moving of bodies, it comes to pass that geometry is commonly referred to their magnitudes, and mechanics to their motion.',\n",
       " 'In this sense rational mechanics will be the science of motions resulting from any forces whatsoever, and of the forces required to produce any motions, accurately proposed and demonstrated.',\n",
       " 'This part of mechanics was cultivated by the ancients in the five powers which relate to manual arts, who considered gravity (it not being a manual power), no otherwise than as it moved weights by those powers.',\n",
       " 'Our design not respecting arts, but philosophy, and our subject not manual but natural powers, we consider chiefly those things which relate to gravity, levity, elastic force, the resistance of fluids, and the like forces, whether attractive or impulsive; and therefore we offer this work as the mathematical principles if philosophy; for all the difficulty of philosophy seems to consist in this—from the phænomena of motions to investigate the forces of nature, and then from these forces to demonstrate the other phænomena; and to this end the general propositions in the first and second book are directed.',\n",
       " 'In the third book we give an example of this in the explication of the System of the World; for by the propositions mathematically demonstrated in the former books, we in the third derive from the celestial phenomena the forces of gravity with which bodies tend to the sun and the several planets.',\n",
       " 'Then from these forces, by other propositions which are also mathematical, we deduce the motions of the planets, the comets, the moon, and the sea.',\n",
       " 'I wish we could derive the rest of the phænomena of nature by the same kind of reasoning from mechanical principles; for I am induced by many reasons to suspect that they may all depend upon certain forces by which the particles of bodies, by some causes hitherto unknown, are either mutually impelled towards each other, and cohere in regular figures, or are repelled and recede from each other; which forces being unknown, philosophers have hitherto attempted the search of nature in vain; but I hope the principles here laid down will afford some light either to this or some truer method of philosophy.']"
      ]
     },
     "execution_count": 6,
     "metadata": {},
     "output_type": "execute_result"
    }
   ],
   "source": [
    "sent_tkn = sent_tokenize(text)\n",
    "sent_tkn"
   ]
  },
  {
   "cell_type": "markdown",
   "id": "7ac26fa0-f6ec-4f41-af7d-b10e08bbd931",
   "metadata": {},
   "source": [
    "### <span style=\"color: red; \">  **fiding unique Words with set**  </span> "
   ]
  },
  {
   "cell_type": "code",
   "execution_count": 7,
   "id": "32b4e767-9d58-48b6-969c-617f17a4d4df",
   "metadata": {},
   "outputs": [
    {
     "data": {
      "text/plain": [
       "{'(',\n",
       " ')',\n",
       " ',',\n",
       " '.',\n",
       " ':',\n",
       " ';',\n",
       " 'But',\n",
       " 'Geometry',\n",
       " 'He',\n",
       " 'I',\n",
       " 'In',\n",
       " 'Our',\n",
       " 'Pappus',\n",
       " 'Since',\n",
       " 'System',\n",
       " 'The',\n",
       " 'Then',\n",
       " 'Therefore',\n",
       " 'This',\n",
       " 'To',\n",
       " 'World',\n",
       " 'a',\n",
       " 'able',\n",
       " 'account',\n",
       " 'accuracy',\n",
       " 'accurate',\n",
       " 'accurately',\n",
       " 'afford',\n",
       " 'all',\n",
       " 'also',\n",
       " 'am',\n",
       " 'an',\n",
       " 'ancients',\n",
       " 'and',\n",
       " 'any',\n",
       " 'are',\n",
       " 'art',\n",
       " 'artificers',\n",
       " 'arts',\n",
       " 'as',\n",
       " 'aside',\n",
       " 'attempted',\n",
       " 'attractive',\n",
       " 'be',\n",
       " 'before',\n",
       " 'being',\n",
       " 'belong',\n",
       " 'belongs',\n",
       " 'bodies',\n",
       " 'book',\n",
       " 'books',\n",
       " 'brought',\n",
       " 'but',\n",
       " 'by',\n",
       " 'called',\n",
       " 'causes',\n",
       " 'celestial',\n",
       " 'certain',\n",
       " 'chiefly',\n",
       " 'circles',\n",
       " 'cohere',\n",
       " 'comes',\n",
       " 'comets',\n",
       " 'commonly',\n",
       " 'consider',\n",
       " 'considered',\n",
       " 'consist',\n",
       " 'conversant',\n",
       " 'could',\n",
       " 'cultivated',\n",
       " 'deduce',\n",
       " 'demonstrate',\n",
       " 'demonstrated',\n",
       " 'demonstrates',\n",
       " 'demonstration',\n",
       " 'depend',\n",
       " 'derive',\n",
       " 'describe',\n",
       " 'description',\n",
       " 'design',\n",
       " 'difficulty',\n",
       " 'directed',\n",
       " 'distinguished',\n",
       " 'do',\n",
       " 'does',\n",
       " 'down',\n",
       " 'draw',\n",
       " 'drawn',\n",
       " 'each',\n",
       " 'either',\n",
       " 'elastic',\n",
       " 'end',\n",
       " 'endeavoured',\n",
       " 'enters',\n",
       " 'errors',\n",
       " 'example',\n",
       " 'explication',\n",
       " 'far',\n",
       " 'few',\n",
       " 'figures',\n",
       " 'first',\n",
       " 'five',\n",
       " 'fluids',\n",
       " 'for',\n",
       " 'force',\n",
       " 'forces',\n",
       " 'former',\n",
       " 'forms',\n",
       " 'founded',\n",
       " 'from',\n",
       " 'general',\n",
       " 'geometrical',\n",
       " 'geometry',\n",
       " 'give',\n",
       " 'glory',\n",
       " 'gravity',\n",
       " 'great',\n",
       " 'have',\n",
       " 'he',\n",
       " 'here',\n",
       " 'hitherto',\n",
       " 'hope',\n",
       " 'how',\n",
       " 'if',\n",
       " 'impelled',\n",
       " 'imperfect',\n",
       " 'impulsive',\n",
       " 'in',\n",
       " 'induced',\n",
       " 'investigate',\n",
       " 'investigation',\n",
       " 'is',\n",
       " 'it',\n",
       " 'its',\n",
       " 'kind',\n",
       " 'laid',\n",
       " 'laws',\n",
       " 'laying',\n",
       " 'learner',\n",
       " 'less',\n",
       " 'levity',\n",
       " 'light',\n",
       " 'like',\n",
       " 'lines',\n",
       " 'made',\n",
       " 'magnitudes',\n",
       " 'manual',\n",
       " 'many',\n",
       " 'mathematical',\n",
       " 'mathematically',\n",
       " 'mathematics',\n",
       " 'may',\n",
       " 'measuring',\n",
       " 'mechanic',\n",
       " 'mechanical',\n",
       " 'mechanics',\n",
       " 'method',\n",
       " 'moderns',\n",
       " 'moon',\n",
       " 'most',\n",
       " 'motion',\n",
       " 'motions',\n",
       " 'moved',\n",
       " 'moving',\n",
       " 'mutually',\n",
       " 'name',\n",
       " 'natural',\n",
       " 'nature',\n",
       " 'no',\n",
       " 'not',\n",
       " 'nothing',\n",
       " 'occult',\n",
       " 'of',\n",
       " 'offer',\n",
       " 'operations',\n",
       " 'or',\n",
       " 'other',\n",
       " 'otherwise',\n",
       " 'our',\n",
       " 'part',\n",
       " 'particles',\n",
       " 'pass',\n",
       " 'perfect',\n",
       " 'perfectly',\n",
       " 'phenomena',\n",
       " 'philosophers',\n",
       " 'philosophy',\n",
       " 'phænomena',\n",
       " 'planets',\n",
       " 'power',\n",
       " 'powers',\n",
       " 'practical',\n",
       " 'practice',\n",
       " 'principles',\n",
       " 'problems',\n",
       " 'proceeds',\n",
       " 'produce',\n",
       " 'proposed',\n",
       " 'proposes',\n",
       " 'propositions',\n",
       " 'qualities',\n",
       " 'rational',\n",
       " 'reasoning',\n",
       " 'reasons',\n",
       " 'recede',\n",
       " 'referred',\n",
       " 'regards',\n",
       " 'regular',\n",
       " 'relate',\n",
       " 'repelled',\n",
       " 'required',\n",
       " 'requires',\n",
       " 'resistance',\n",
       " 'respect',\n",
       " 'respecting',\n",
       " 'rest',\n",
       " 'resulting',\n",
       " 'right',\n",
       " 'same',\n",
       " 'science',\n",
       " 'sea',\n",
       " 'search',\n",
       " 'second',\n",
       " 'seems',\n",
       " 'sense',\n",
       " 'several',\n",
       " 'should',\n",
       " 'shown',\n",
       " 'shows',\n",
       " 'since',\n",
       " 'so',\n",
       " 'solution',\n",
       " 'solved',\n",
       " 'some',\n",
       " 'subject',\n",
       " 'substantial',\n",
       " 'sun',\n",
       " 'suspect',\n",
       " 'taught',\n",
       " 'teach',\n",
       " 'tend',\n",
       " 'than',\n",
       " 'that',\n",
       " 'the',\n",
       " 'their',\n",
       " 'them',\n",
       " 'then',\n",
       " 'therefore',\n",
       " 'these',\n",
       " 'they',\n",
       " 'things',\n",
       " 'third',\n",
       " 'this',\n",
       " 'this—from',\n",
       " 'those',\n",
       " 'to',\n",
       " 'told',\n",
       " 'took',\n",
       " 'towards',\n",
       " 'treatise',\n",
       " 'truer',\n",
       " 'twofold',\n",
       " 'universal',\n",
       " 'unknown',\n",
       " 'upon',\n",
       " 'us',\n",
       " 'use',\n",
       " 'vain',\n",
       " 'was',\n",
       " 'we',\n",
       " 'weights',\n",
       " 'what',\n",
       " 'whatsoever',\n",
       " 'when',\n",
       " 'whether',\n",
       " 'which',\n",
       " 'who',\n",
       " 'will',\n",
       " 'wish',\n",
       " 'with',\n",
       " 'without',\n",
       " 'work',\n",
       " 'works',\n",
       " 'would'}"
      ]
     },
     "execution_count": 7,
     "metadata": {},
     "output_type": "execute_result"
    }
   ],
   "source": [
    "set_tkn= set(word_tokenize(text))\n",
    "set_tkn"
   ]
  },
  {
   "cell_type": "markdown",
   "id": "b63ae9cf-7bc7-43f6-96e7-c5683d282573",
   "metadata": {},
   "source": [
    "#### Counts of words in the text "
   ]
  },
  {
   "cell_type": "code",
   "execution_count": null,
   "id": "edc24dea-d99e-42c0-aaa3-27d34872937a",
   "metadata": {},
   "outputs": [],
   "source": [
    "count_word = len(word_tokenize(text))"
   ]
  },
  {
   "cell_type": "markdown",
   "id": "a0e3424f-f6ca-4b52-b890-a3d20c72b085",
   "metadata": {},
   "source": [
    "\n",
    "### <span style=\"color: red; \">  **Finding  Lexical Diversity**  </span> \n",
    "The lexical diversity of a text is the ratio of unique words to the total words"
   ]
  },
  {
   "cell_type": "code",
   "execution_count": 9,
   "id": "a0781986-eda1-4b47-bed3-2d150cc85453",
   "metadata": {},
   "outputs": [
    {
     "data": {
      "text/plain": [
       "0.370757180156658"
      ]
     },
     "execution_count": 9,
     "metadata": {},
     "output_type": "execute_result"
    }
   ],
   "source": [
    "lex_div= len(set(word_tokenize(text)))/len(word_tokenize(text))\n",
    "lex_div"
   ]
  },
  {
   "cell_type": "markdown",
   "id": "5123e910-1bd6-4d64-80e8-84f610cd9a93",
   "metadata": {},
   "source": [
    "### <span style=\"color: red; \">  **Using apply to analyze text in a DataFrame**  </span> \n"
   ]
  },
  {
   "cell_type": "code",
   "execution_count": 10,
   "id": "3b2b8ad9-4488-4a5c-8dd3-c7179b7e706a",
   "metadata": {},
   "outputs": [
    {
     "data": {
      "text/html": [
       "<div>\n",
       "<style scoped>\n",
       "    .dataframe tbody tr th:only-of-type {\n",
       "        vertical-align: middle;\n",
       "    }\n",
       "\n",
       "    .dataframe tbody tr th {\n",
       "        vertical-align: top;\n",
       "    }\n",
       "\n",
       "    .dataframe thead th {\n",
       "        text-align: right;\n",
       "    }\n",
       "</style>\n",
       "<table border=\"1\" class=\"dataframe\">\n",
       "  <thead>\n",
       "    <tr style=\"text-align: right;\">\n",
       "      <th></th>\n",
       "      <th>content</th>\n",
       "      <th>sentiment</th>\n",
       "    </tr>\n",
       "  </thead>\n",
       "  <tbody>\n",
       "    <tr>\n",
       "      <th>0</th>\n",
       "      <td>Wants to know how the hell I can remember word...</td>\n",
       "      <td>happy</td>\n",
       "    </tr>\n",
       "    <tr>\n",
       "      <th>1</th>\n",
       "      <td>Love is a long sweet dream &amp; marriage is an al...</td>\n",
       "      <td>happy</td>\n",
       "    </tr>\n",
       "    <tr>\n",
       "      <th>2</th>\n",
       "      <td>The world could be amazing when you are slight...</td>\n",
       "      <td>happy</td>\n",
       "    </tr>\n",
       "    <tr>\n",
       "      <th>3</th>\n",
       "      <td>My secret talent is getting tired without doin...</td>\n",
       "      <td>happy</td>\n",
       "    </tr>\n",
       "    <tr>\n",
       "      <th>4</th>\n",
       "      <td>Khatarnaak Whatsapp Status Ever… Can\\’t talk, ...</td>\n",
       "      <td>happy</td>\n",
       "    </tr>\n",
       "  </tbody>\n",
       "</table>\n",
       "</div>"
      ],
      "text/plain": [
       "                                             content sentiment\n",
       "0  Wants to know how the hell I can remember word...     happy\n",
       "1  Love is a long sweet dream & marriage is an al...     happy\n",
       "2  The world could be amazing when you are slight...     happy\n",
       "3  My secret talent is getting tired without doin...     happy\n",
       "4  Khatarnaak Whatsapp Status Ever… Can\\’t talk, ...     happy"
      ]
     },
     "execution_count": 10,
     "metadata": {},
     "output_type": "execute_result"
    }
   ],
   "source": [
    "happy_df = pd.read_csv('data/Emotion(happy).csv')\n",
    "happy_df.head()"
   ]
  },
  {
   "cell_type": "code",
   "execution_count": 12,
   "id": "3c420658-7ca2-4083-b845-0b5bb5226aca",
   "metadata": {},
   "outputs": [
    {
     "data": {
      "text/plain": [
       "2095"
      ]
     },
     "execution_count": 12,
     "metadata": {},
     "output_type": "execute_result"
    }
   ],
   "source": [
    "# number of non-unique words \n",
    "df_non_unique = len(set(happy_df['content'].apply(word_tokenize).sum()))\n",
    "df_non_unique"
   ]
  },
  {
   "cell_type": "markdown",
   "id": "6cf35e19-1f1a-4ebe-a2ed-140d1915cc93",
   "metadata": {},
   "source": [
    "#### Dataset "
   ]
  },
  {
   "cell_type": "raw",
   "id": "03de38be-acc0-45c9-8cc9-2f29c21dc470",
   "metadata": {},
   "source": [
    "The Data¶\n",
    "\n",
    "The cell below uses the \"sad\" and \"happy\" sentiments datasets from Kaggle to form the target of our classification models. The data is also split and named appropriately below. "
   ]
  },
  {
   "cell_type": "code",
   "execution_count": 13,
   "id": "d526cbb6-1d6d-4dac-8b57-ca1dfef81ac6",
   "metadata": {},
   "outputs": [],
   "source": [
    "happy_df = pd.read_csv('data/Emotion(happy).csv')\n",
    "sad_df = pd.read_csv('data/Emotion(sad).csv')"
   ]
  },
  {
   "cell_type": "code",
   "execution_count": 14,
   "id": "b14632fd-6945-491a-95ef-be54403baa95",
   "metadata": {},
   "outputs": [
    {
     "data": {
      "text/html": [
       "<div>\n",
       "<style scoped>\n",
       "    .dataframe tbody tr th:only-of-type {\n",
       "        vertical-align: middle;\n",
       "    }\n",
       "\n",
       "    .dataframe tbody tr th {\n",
       "        vertical-align: top;\n",
       "    }\n",
       "\n",
       "    .dataframe thead th {\n",
       "        text-align: right;\n",
       "    }\n",
       "</style>\n",
       "<table border=\"1\" class=\"dataframe\">\n",
       "  <thead>\n",
       "    <tr style=\"text-align: right;\">\n",
       "      <th></th>\n",
       "      <th>content</th>\n",
       "      <th>sentiment</th>\n",
       "    </tr>\n",
       "  </thead>\n",
       "  <tbody>\n",
       "    <tr>\n",
       "      <th>0</th>\n",
       "      <td>Wants to know how the hell I can remember word...</td>\n",
       "      <td>happy</td>\n",
       "    </tr>\n",
       "    <tr>\n",
       "      <th>1</th>\n",
       "      <td>Love is a long sweet dream &amp; marriage is an al...</td>\n",
       "      <td>happy</td>\n",
       "    </tr>\n",
       "    <tr>\n",
       "      <th>2</th>\n",
       "      <td>The world could be amazing when you are slight...</td>\n",
       "      <td>happy</td>\n",
       "    </tr>\n",
       "    <tr>\n",
       "      <th>3</th>\n",
       "      <td>My secret talent is getting tired without doin...</td>\n",
       "      <td>happy</td>\n",
       "    </tr>\n",
       "    <tr>\n",
       "      <th>4</th>\n",
       "      <td>Khatarnaak Whatsapp Status Ever… Can\\’t talk, ...</td>\n",
       "      <td>happy</td>\n",
       "    </tr>\n",
       "    <tr>\n",
       "      <th>...</th>\n",
       "      <td>...</td>\n",
       "      <td>...</td>\n",
       "    </tr>\n",
       "    <tr>\n",
       "      <th>1338</th>\n",
       "      <td>Stop crying over yesterday and start smiling f...</td>\n",
       "      <td>sad</td>\n",
       "    </tr>\n",
       "    <tr>\n",
       "      <th>1339</th>\n",
       "      <td>An Eye with Dust ‘n A Heart with Trust Always ...</td>\n",
       "      <td>sad</td>\n",
       "    </tr>\n",
       "    <tr>\n",
       "      <th>1340</th>\n",
       "      <td>Tears come from the heart and not from the brain.</td>\n",
       "      <td>sad</td>\n",
       "    </tr>\n",
       "    <tr>\n",
       "      <th>1341</th>\n",
       "      <td>Sometimes you have to hold your head up high, ...</td>\n",
       "      <td>sad</td>\n",
       "    </tr>\n",
       "    <tr>\n",
       "      <th>1342</th>\n",
       "      <td>Instead of wiping your tears, wipe away the pe...</td>\n",
       "      <td>sad</td>\n",
       "    </tr>\n",
       "  </tbody>\n",
       "</table>\n",
       "<p>1343 rows × 2 columns</p>\n",
       "</div>"
      ],
      "text/plain": [
       "                                                content sentiment\n",
       "0     Wants to know how the hell I can remember word...     happy\n",
       "1     Love is a long sweet dream & marriage is an al...     happy\n",
       "2     The world could be amazing when you are slight...     happy\n",
       "3     My secret talent is getting tired without doin...     happy\n",
       "4     Khatarnaak Whatsapp Status Ever… Can\\’t talk, ...     happy\n",
       "...                                                 ...       ...\n",
       "1338  Stop crying over yesterday and start smiling f...       sad\n",
       "1339  An Eye with Dust ‘n A Heart with Trust Always ...       sad\n",
       "1340  Tears come from the heart and not from the brain.       sad\n",
       "1341  Sometimes you have to hold your head up high, ...       sad\n",
       "1342  Instead of wiping your tears, wipe away the pe...       sad\n",
       "\n",
       "[1343 rows x 2 columns]"
      ]
     },
     "execution_count": 14,
     "metadata": {},
     "output_type": "execute_result"
    }
   ],
   "source": [
    "df = pd.concat([happy_df, sad_df]).reset_index(drop = True)\n",
    "df.shape \n",
    "df"
   ]
  },
  {
   "cell_type": "code",
   "execution_count": 15,
   "id": "cb9ea21d-103d-44d9-8625-22c67a7d4b77",
   "metadata": {},
   "outputs": [],
   "source": [
    "X = df.drop('sentiment', axis = 1)\n",
    "y = df['sentiment']"
   ]
  },
  {
   "cell_type": "code",
   "execution_count": 16,
   "id": "8e5a1035-73a2-4ea1-b0b6-74af26185278",
   "metadata": {},
   "outputs": [],
   "source": [
    "X_train, X_test, y_train, y_test = train_test_split(X['content'], y, random_state = 42)"
   ]
  },
  {
   "cell_type": "code",
   "execution_count": 17,
   "id": "51cf3486-6fe1-4b5a-90ec-2e1a7c3180e1",
   "metadata": {},
   "outputs": [
    {
     "data": {
      "text/plain": [
       "1287    ['You Hurt Me But I Still Love You.', 'True Lo...\n",
       "1112    Sorry isn’t always enough. Sometimes you actua...\n",
       "823     Sometimes two people have to fall apart to rea...\n",
       "651     True love isn’t love at first sight but love a...\n",
       "1101    i am scared of getting too close to anyone bec...\n",
       "Name: content, dtype: object"
      ]
     },
     "execution_count": 17,
     "metadata": {},
     "output_type": "execute_result"
    }
   ],
   "source": [
    "X_train.head()"
   ]
  },
  {
   "cell_type": "code",
   "execution_count": null,
   "id": "551c7503-715e-46a4-98a9-46b4a6e8d8e5",
   "metadata": {},
   "outputs": [],
   "source": []
  },
  {
   "cell_type": "markdown",
   "id": "e467bd90-ffa2-4f7c-9690-3e186b3286c6",
   "metadata": {},
   "source": [
    "\n",
    "### <span style=\"color: red; \">  **Stemming and Lemmatization**  </span> \n"
   ]
  },
  {
   "cell_type": "code",
   "execution_count": null,
   "id": "5fcee125-30ea-438c-bb55-c893aebf21bc",
   "metadata": {},
   "outputs": [],
   "source": []
  },
  {
   "cell_type": "markdown",
   "id": "1b3006e7-15ce-4471-a79b-667c78cceb54",
   "metadata": {},
   "source": [
    "### <span style=\"color: red; \">  **CountVectorizer**  </span> "
   ]
  },
  {
   "cell_type": "code",
   "execution_count": 18,
   "id": "870af3bc-9033-44a9-a018-44f90353c104",
   "metadata": {},
   "outputs": [
    {
     "data": {
      "text/html": [
       "<div>\n",
       "<style scoped>\n",
       "    .dataframe tbody tr th:only-of-type {\n",
       "        vertical-align: middle;\n",
       "    }\n",
       "\n",
       "    .dataframe tbody tr th {\n",
       "        vertical-align: top;\n",
       "    }\n",
       "\n",
       "    .dataframe thead th {\n",
       "        text-align: right;\n",
       "    }\n",
       "</style>\n",
       "<table border=\"1\" class=\"dataframe\">\n",
       "  <thead>\n",
       "    <tr style=\"text-align: right;\">\n",
       "      <th></th>\n",
       "      <th>0_0</th>\n",
       "      <th>100</th>\n",
       "      <th>123whatsappstatus</th>\n",
       "      <th>204</th>\n",
       "      <th>30</th>\n",
       "      <th>404</th>\n",
       "      <th>44</th>\n",
       "      <th>45</th>\n",
       "      <th>55</th>\n",
       "      <th>805</th>\n",
       "      <th>...</th>\n",
       "      <th>yes</th>\n",
       "      <th>yesterday</th>\n",
       "      <th>yet</th>\n",
       "      <th>you</th>\n",
       "      <th>young</th>\n",
       "      <th>your</th>\n",
       "      <th>yours</th>\n",
       "      <th>yourself</th>\n",
       "      <th>yous</th>\n",
       "      <th>yuh</th>\n",
       "    </tr>\n",
       "  </thead>\n",
       "  <tbody>\n",
       "    <tr>\n",
       "      <th>0</th>\n",
       "      <td>0</td>\n",
       "      <td>0</td>\n",
       "      <td>0</td>\n",
       "      <td>0</td>\n",
       "      <td>0</td>\n",
       "      <td>0</td>\n",
       "      <td>0</td>\n",
       "      <td>0</td>\n",
       "      <td>0</td>\n",
       "      <td>0</td>\n",
       "      <td>...</td>\n",
       "      <td>2</td>\n",
       "      <td>0</td>\n",
       "      <td>1</td>\n",
       "      <td>112</td>\n",
       "      <td>0</td>\n",
       "      <td>13</td>\n",
       "      <td>0</td>\n",
       "      <td>2</td>\n",
       "      <td>0</td>\n",
       "      <td>0</td>\n",
       "    </tr>\n",
       "    <tr>\n",
       "      <th>1</th>\n",
       "      <td>0</td>\n",
       "      <td>0</td>\n",
       "      <td>0</td>\n",
       "      <td>0</td>\n",
       "      <td>0</td>\n",
       "      <td>0</td>\n",
       "      <td>0</td>\n",
       "      <td>0</td>\n",
       "      <td>0</td>\n",
       "      <td>0</td>\n",
       "      <td>...</td>\n",
       "      <td>0</td>\n",
       "      <td>0</td>\n",
       "      <td>0</td>\n",
       "      <td>1</td>\n",
       "      <td>0</td>\n",
       "      <td>0</td>\n",
       "      <td>0</td>\n",
       "      <td>0</td>\n",
       "      <td>0</td>\n",
       "      <td>0</td>\n",
       "    </tr>\n",
       "    <tr>\n",
       "      <th>2</th>\n",
       "      <td>0</td>\n",
       "      <td>0</td>\n",
       "      <td>0</td>\n",
       "      <td>0</td>\n",
       "      <td>0</td>\n",
       "      <td>0</td>\n",
       "      <td>0</td>\n",
       "      <td>0</td>\n",
       "      <td>0</td>\n",
       "      <td>0</td>\n",
       "      <td>...</td>\n",
       "      <td>0</td>\n",
       "      <td>0</td>\n",
       "      <td>0</td>\n",
       "      <td>0</td>\n",
       "      <td>0</td>\n",
       "      <td>0</td>\n",
       "      <td>0</td>\n",
       "      <td>0</td>\n",
       "      <td>0</td>\n",
       "      <td>0</td>\n",
       "    </tr>\n",
       "    <tr>\n",
       "      <th>3</th>\n",
       "      <td>0</td>\n",
       "      <td>0</td>\n",
       "      <td>0</td>\n",
       "      <td>0</td>\n",
       "      <td>0</td>\n",
       "      <td>0</td>\n",
       "      <td>0</td>\n",
       "      <td>0</td>\n",
       "      <td>0</td>\n",
       "      <td>0</td>\n",
       "      <td>...</td>\n",
       "      <td>0</td>\n",
       "      <td>0</td>\n",
       "      <td>0</td>\n",
       "      <td>0</td>\n",
       "      <td>0</td>\n",
       "      <td>0</td>\n",
       "      <td>0</td>\n",
       "      <td>0</td>\n",
       "      <td>0</td>\n",
       "      <td>0</td>\n",
       "    </tr>\n",
       "    <tr>\n",
       "      <th>4</th>\n",
       "      <td>0</td>\n",
       "      <td>0</td>\n",
       "      <td>0</td>\n",
       "      <td>0</td>\n",
       "      <td>0</td>\n",
       "      <td>0</td>\n",
       "      <td>0</td>\n",
       "      <td>0</td>\n",
       "      <td>0</td>\n",
       "      <td>0</td>\n",
       "      <td>...</td>\n",
       "      <td>0</td>\n",
       "      <td>0</td>\n",
       "      <td>0</td>\n",
       "      <td>0</td>\n",
       "      <td>0</td>\n",
       "      <td>0</td>\n",
       "      <td>0</td>\n",
       "      <td>0</td>\n",
       "      <td>0</td>\n",
       "      <td>0</td>\n",
       "    </tr>\n",
       "  </tbody>\n",
       "</table>\n",
       "<p>5 rows × 1832 columns</p>\n",
       "</div>"
      ],
      "text/plain": [
       "   0_0  100  123whatsappstatus  204  30  404  44  45  55  805  ...  yes  \\\n",
       "0    0    0                  0    0   0    0   0   0   0    0  ...    2   \n",
       "1    0    0                  0    0   0    0   0   0   0    0  ...    0   \n",
       "2    0    0                  0    0   0    0   0   0   0    0  ...    0   \n",
       "3    0    0                  0    0   0    0   0   0   0    0  ...    0   \n",
       "4    0    0                  0    0   0    0   0   0   0    0  ...    0   \n",
       "\n",
       "   yesterday  yet  you  young  your  yours  yourself  yous  yuh  \n",
       "0          0    1  112      0    13      0         2     0    0  \n",
       "1          0    0    1      0     0      0         0     0    0  \n",
       "2          0    0    0      0     0      0         0     0    0  \n",
       "3          0    0    0      0     0      0         0     0    0  \n",
       "4          0    0    0      0     0      0         0     0    0  \n",
       "\n",
       "[5 rows x 1832 columns]"
      ]
     },
     "execution_count": 18,
     "metadata": {},
     "output_type": "execute_result"
    }
   ],
   "source": [
    "cvect = CountVectorizer()\n",
    "dtm = cvect.fit_transform(X_train)\n",
    "#control the resuls \n",
    "pd.DataFrame(dtm.toarray(), columns = cvect.get_feature_names_out()).head()\n"
   ]
  },
  {
   "cell_type": "code",
   "execution_count": 19,
   "id": "e6edc2d6-ed49-42e5-b329-93eeb146e100",
   "metadata": {},
   "outputs": [],
   "source": [
    "####  CountVectorizer, also use stop words "
   ]
  },
  {
   "cell_type": "code",
   "execution_count": 20,
   "id": "68a34528-5b6b-48db-b054-b6bc600f90cf",
   "metadata": {},
   "outputs": [],
   "source": [
    "cvect2 = CountVectorizer(stop_words = 'english')\n",
    "X_train_vect_2 = cvect2.fit_transform(X_train)\n",
    "X_test_vect_2 = cvect2.transform(X_test)"
   ]
  },
  {
   "cell_type": "markdown",
   "id": "e8b72c1d-f457-44b3-a307-ed0b422c5ffc",
   "metadata": {},
   "source": [
    "### <span style=\"color: red; \">  **TFIDF VECTORIZER**  </span> "
   ]
  },
  {
   "cell_type": "code",
   "execution_count": 27,
   "id": "2ac3de91-a552-4fc0-9960-0cc856c9e8a9",
   "metadata": {},
   "outputs": [
    {
     "data": {
      "text/html": [
       "<div>\n",
       "<style scoped>\n",
       "    .dataframe tbody tr th:only-of-type {\n",
       "        vertical-align: middle;\n",
       "    }\n",
       "\n",
       "    .dataframe tbody tr th {\n",
       "        vertical-align: top;\n",
       "    }\n",
       "\n",
       "    .dataframe thead th {\n",
       "        text-align: right;\n",
       "    }\n",
       "</style>\n",
       "<table border=\"1\" class=\"dataframe\">\n",
       "  <thead>\n",
       "    <tr style=\"text-align: right;\">\n",
       "      <th></th>\n",
       "      <th>0_0</th>\n",
       "      <th>100</th>\n",
       "      <th>123whatsappstatus</th>\n",
       "      <th>204</th>\n",
       "      <th>30</th>\n",
       "      <th>404</th>\n",
       "      <th>44</th>\n",
       "      <th>45</th>\n",
       "      <th>55</th>\n",
       "      <th>805</th>\n",
       "      <th>...</th>\n",
       "      <th>yes</th>\n",
       "      <th>yesterday</th>\n",
       "      <th>yet</th>\n",
       "      <th>you</th>\n",
       "      <th>young</th>\n",
       "      <th>your</th>\n",
       "      <th>yours</th>\n",
       "      <th>yourself</th>\n",
       "      <th>yous</th>\n",
       "      <th>yuh</th>\n",
       "    </tr>\n",
       "  </thead>\n",
       "  <tbody>\n",
       "    <tr>\n",
       "      <th>0</th>\n",
       "      <td>0.0</td>\n",
       "      <td>0.0</td>\n",
       "      <td>0.0</td>\n",
       "      <td>0.0</td>\n",
       "      <td>0.0</td>\n",
       "      <td>0.0</td>\n",
       "      <td>0.0</td>\n",
       "      <td>0.0</td>\n",
       "      <td>0.0</td>\n",
       "      <td>0.0</td>\n",
       "      <td>...</td>\n",
       "      <td>0.01397</td>\n",
       "      <td>0.0</td>\n",
       "      <td>0.006924</td>\n",
       "      <td>0.398355</td>\n",
       "      <td>0.0</td>\n",
       "      <td>0.070646</td>\n",
       "      <td>0.0</td>\n",
       "      <td>0.01305</td>\n",
       "      <td>0.0</td>\n",
       "      <td>0.0</td>\n",
       "    </tr>\n",
       "    <tr>\n",
       "      <th>1</th>\n",
       "      <td>0.0</td>\n",
       "      <td>0.0</td>\n",
       "      <td>0.0</td>\n",
       "      <td>0.0</td>\n",
       "      <td>0.0</td>\n",
       "      <td>0.0</td>\n",
       "      <td>0.0</td>\n",
       "      <td>0.0</td>\n",
       "      <td>0.0</td>\n",
       "      <td>0.0</td>\n",
       "      <td>...</td>\n",
       "      <td>0.00000</td>\n",
       "      <td>0.0</td>\n",
       "      <td>0.000000</td>\n",
       "      <td>0.184358</td>\n",
       "      <td>0.0</td>\n",
       "      <td>0.000000</td>\n",
       "      <td>0.0</td>\n",
       "      <td>0.00000</td>\n",
       "      <td>0.0</td>\n",
       "      <td>0.0</td>\n",
       "    </tr>\n",
       "    <tr>\n",
       "      <th>2</th>\n",
       "      <td>0.0</td>\n",
       "      <td>0.0</td>\n",
       "      <td>0.0</td>\n",
       "      <td>0.0</td>\n",
       "      <td>0.0</td>\n",
       "      <td>0.0</td>\n",
       "      <td>0.0</td>\n",
       "      <td>0.0</td>\n",
       "      <td>0.0</td>\n",
       "      <td>0.0</td>\n",
       "      <td>...</td>\n",
       "      <td>0.00000</td>\n",
       "      <td>0.0</td>\n",
       "      <td>0.000000</td>\n",
       "      <td>0.000000</td>\n",
       "      <td>0.0</td>\n",
       "      <td>0.000000</td>\n",
       "      <td>0.0</td>\n",
       "      <td>0.00000</td>\n",
       "      <td>0.0</td>\n",
       "      <td>0.0</td>\n",
       "    </tr>\n",
       "    <tr>\n",
       "      <th>3</th>\n",
       "      <td>0.0</td>\n",
       "      <td>0.0</td>\n",
       "      <td>0.0</td>\n",
       "      <td>0.0</td>\n",
       "      <td>0.0</td>\n",
       "      <td>0.0</td>\n",
       "      <td>0.0</td>\n",
       "      <td>0.0</td>\n",
       "      <td>0.0</td>\n",
       "      <td>0.0</td>\n",
       "      <td>...</td>\n",
       "      <td>0.00000</td>\n",
       "      <td>0.0</td>\n",
       "      <td>0.000000</td>\n",
       "      <td>0.000000</td>\n",
       "      <td>0.0</td>\n",
       "      <td>0.000000</td>\n",
       "      <td>0.0</td>\n",
       "      <td>0.00000</td>\n",
       "      <td>0.0</td>\n",
       "      <td>0.0</td>\n",
       "    </tr>\n",
       "    <tr>\n",
       "      <th>4</th>\n",
       "      <td>0.0</td>\n",
       "      <td>0.0</td>\n",
       "      <td>0.0</td>\n",
       "      <td>0.0</td>\n",
       "      <td>0.0</td>\n",
       "      <td>0.0</td>\n",
       "      <td>0.0</td>\n",
       "      <td>0.0</td>\n",
       "      <td>0.0</td>\n",
       "      <td>0.0</td>\n",
       "      <td>...</td>\n",
       "      <td>0.00000</td>\n",
       "      <td>0.0</td>\n",
       "      <td>0.000000</td>\n",
       "      <td>0.000000</td>\n",
       "      <td>0.0</td>\n",
       "      <td>0.000000</td>\n",
       "      <td>0.0</td>\n",
       "      <td>0.00000</td>\n",
       "      <td>0.0</td>\n",
       "      <td>0.0</td>\n",
       "    </tr>\n",
       "  </tbody>\n",
       "</table>\n",
       "<p>5 rows × 1832 columns</p>\n",
       "</div>"
      ],
      "text/plain": [
       "   0_0  100  123whatsappstatus  204   30  404   44   45   55  805  ...  \\\n",
       "0  0.0  0.0                0.0  0.0  0.0  0.0  0.0  0.0  0.0  0.0  ...   \n",
       "1  0.0  0.0                0.0  0.0  0.0  0.0  0.0  0.0  0.0  0.0  ...   \n",
       "2  0.0  0.0                0.0  0.0  0.0  0.0  0.0  0.0  0.0  0.0  ...   \n",
       "3  0.0  0.0                0.0  0.0  0.0  0.0  0.0  0.0  0.0  0.0  ...   \n",
       "4  0.0  0.0                0.0  0.0  0.0  0.0  0.0  0.0  0.0  0.0  ...   \n",
       "\n",
       "       yes  yesterday       yet       you  young      your  yours  yourself  \\\n",
       "0  0.01397        0.0  0.006924  0.398355    0.0  0.070646    0.0   0.01305   \n",
       "1  0.00000        0.0  0.000000  0.184358    0.0  0.000000    0.0   0.00000   \n",
       "2  0.00000        0.0  0.000000  0.000000    0.0  0.000000    0.0   0.00000   \n",
       "3  0.00000        0.0  0.000000  0.000000    0.0  0.000000    0.0   0.00000   \n",
       "4  0.00000        0.0  0.000000  0.000000    0.0  0.000000    0.0   0.00000   \n",
       "\n",
       "   yous  yuh  \n",
       "0   0.0  0.0  \n",
       "1   0.0  0.0  \n",
       "2   0.0  0.0  \n",
       "3   0.0  0.0  \n",
       "4   0.0  0.0  \n",
       "\n",
       "[5 rows x 1832 columns]"
      ]
     },
     "execution_count": 27,
     "metadata": {},
     "output_type": "execute_result"
    }
   ],
   "source": [
    "\n",
    "tfidf = TfidfVectorizer()\n",
    "dtm= tfidf.fit_transform(X_train)\n",
    "\n",
    "### ANSWER CHECK\n",
    "pd.DataFrame(dtm.toarray(), columns = tfidf.get_feature_names_out()).head()"
   ]
  },
  {
   "cell_type": "markdown",
   "id": "c216e474-ad27-4528-a5d8-d063a40bf4e4",
   "metadata": {},
   "source": [
    "### <span style=\"color: red; \">  **Pipeline with TfidfVectorizer**  </span> "
   ]
  },
  {
   "cell_type": "code",
   "execution_count": 28,
   "id": "6debb42f-4548-4d0e-b023-08a3ae09b328",
   "metadata": {},
   "outputs": [
    {
     "data": {
      "text/plain": [
       "{'tfidf': TfidfVectorizer(), 'lgr': LogisticRegression()}"
      ]
     },
     "execution_count": 28,
     "metadata": {},
     "output_type": "execute_result"
    }
   ],
   "source": [
    "tfidf_pipe = Pipeline([('tfidf', TfidfVectorizer()),\n",
    "                       ('lgr', LogisticRegression())])\n",
    "tfidf_pipe.fit(X_train, y_train)\n",
    "test_acc = tfidf_pipe.score(X_test, y_test)\n",
    "\n",
    "#control \n",
    "tfidf_pipe.named_steps"
   ]
  },
  {
   "cell_type": "markdown",
   "id": "f5ceeb88-10aa-463a-a212-e4a4f3d1df29",
   "metadata": {},
   "source": [
    "### <span style=\"color: red; \">  **Pipeline and Grid Search - tfidf**  </span> "
   ]
  },
  {
   "cell_type": "code",
   "execution_count": 29,
   "id": "52010be7-313c-4b15-aaad-6e619c9072ab",
   "metadata": {},
   "outputs": [],
   "source": [
    "params = {'tfidf__max_features': [100, 500, 1000, 2000],\n",
    "         'tfidf__stop_words': ['english', None]}"
   ]
  },
  {
   "cell_type": "code",
   "execution_count": 30,
   "id": "71f8204b-f87d-49a5-b943-f5e0cb28c818",
   "metadata": {},
   "outputs": [
    {
     "data": {
      "text/plain": [
       "{'tfidf__max_features': 500, 'tfidf__stop_words': None}"
      ]
     },
     "execution_count": 30,
     "metadata": {},
     "output_type": "execute_result"
    }
   ],
   "source": [
    "# grid search for TFIDF \n",
    "grid = GridSearchCV(tfidf_pipe, param_grid=params)\n",
    "grid.fit(X_train, y_train)\n",
    "test_acc = grid.score(X_test, y_test)\n",
    "\n",
    "\n",
    "#control \n",
    "grid.best_params_"
   ]
  },
  {
   "cell_type": "markdown",
   "id": "f92f1b15-dcd2-4782-826d-b2de2dc7afa0",
   "metadata": {},
   "source": [
    "### <span style=\"color: red; \">  **Pipeline and Grid Search - bag of words**  </span> "
   ]
  },
  {
   "cell_type": "code",
   "execution_count": 34,
   "id": "841d9350-e963-4afb-8a00-b0554ce8b06f",
   "metadata": {},
   "outputs": [
    {
     "data": {
      "text/plain": [
       "{'cvect': CountVectorizer(), 'lgr': LogisticRegression()}"
      ]
     },
     "execution_count": 34,
     "metadata": {},
     "output_type": "execute_result"
    }
   ],
   "source": [
    "vect_pipe_1 = Pipeline([('cvect', CountVectorizer()),\n",
    "                       ('lgr', LogisticRegression())])\n",
    "vect_pipe_1.fit(X_train, y_train)\n",
    "test_acc = vect_pipe_1.score(X_test, y_test)\n",
    "### END SOLUTION\n",
    "\n",
    "\n",
    "### ANSWER CHECK\n",
    "vect_pipe_1.named_steps"
   ]
  },
  {
   "cell_type": "code",
   "execution_count": 35,
   "id": "a9f2fa32-8167-43c4-9cd1-fba49befc36b",
   "metadata": {},
   "outputs": [],
   "source": [
    "params = {'cvect__max_features': [100, 500, 1000, 2000],\n",
    "         'cvect__stop_words': ['english', None]}"
   ]
  },
  {
   "cell_type": "code",
   "execution_count": 36,
   "id": "bd6eac9b-38a4-40f1-a83f-d00cc49b0297",
   "metadata": {},
   "outputs": [
    {
     "data": {
      "text/plain": [
       "{'cvect__max_features': 2000, 'cvect__stop_words': None}"
      ]
     },
     "execution_count": 36,
     "metadata": {},
     "output_type": "execute_result"
    }
   ],
   "source": [
    "# gridsearch for bag of words\n",
    "grid = GridSearchCV(vect_pipe_1, param_grid=params)\n",
    "grid.fit(X_train, y_train)\n",
    "test_acc = grid.score(X_test, y_test)\n",
    "### END SOLUTION\n",
    "\n",
    "### ANSWER CHECK\n",
    "grid.best_params_"
   ]
  },
  {
   "cell_type": "code",
   "execution_count": null,
   "id": "fafbbddc-67ab-4ae2-87a2-603eac991d92",
   "metadata": {},
   "outputs": [],
   "source": []
  },
  {
   "cell_type": "code",
   "execution_count": null,
   "id": "d7b0181a-c942-4f34-a578-99e37275591b",
   "metadata": {},
   "outputs": [],
   "source": []
  }
 ],
 "metadata": {
  "kernelspec": {
   "display_name": "Python 3 (ipykernel)",
   "language": "python",
   "name": "python3"
  },
  "language_info": {
   "codemirror_mode": {
    "name": "ipython",
    "version": 3
   },
   "file_extension": ".py",
   "mimetype": "text/x-python",
   "name": "python",
   "nbconvert_exporter": "python",
   "pygments_lexer": "ipython3",
   "version": "3.11.7"
  }
 },
 "nbformat": 4,
 "nbformat_minor": 5
}
